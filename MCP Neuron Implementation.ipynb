{
 "cells": [
  {
   "cell_type": "code",
   "execution_count": 1,
   "id": "7fed46c7-4c5e-4993-b2c6-e384c53f6126",
   "metadata": {},
   "outputs": [],
   "source": [
    "import numpy as np"
   ]
  },
  {
   "cell_type": "code",
   "execution_count": 2,
   "id": "f055ccb6-65bd-4464-ab2a-c729d4143ff3",
   "metadata": {},
   "outputs": [],
   "source": [
    "inp_data = np.array([[0, 0], [0, 1], [1, 0], [1, 1]])\n",
    "out_data_AND = np.array([0, 0, 0, 1])"
   ]
  },
  {
   "cell_type": "code",
   "execution_count": 3,
   "id": "860660fe-db8c-4898-ad18-000abd071c20",
   "metadata": {},
   "outputs": [],
   "source": [
    "step_function_AND = lambda x : 1 if x >= 1.5 else 0"
   ]
  },
  {
   "cell_type": "code",
   "execution_count": 5,
   "id": "d98739af-c771-4a60-98e9-e1cacddc5fd8",
   "metadata": {},
   "outputs": [],
   "source": [
    "pred_AND = np.array(list(map(lambda i : step_function_AND(np.sum(i)), inp_data)))"
   ]
  },
  {
   "cell_type": "code",
   "execution_count": 6,
   "id": "f5d91c4f-3971-4e33-9c70-b4f93c5abb44",
   "metadata": {},
   "outputs": [
    {
     "data": {
      "text/plain": [
       "array([0, 0, 0, 1])"
      ]
     },
     "execution_count": 6,
     "metadata": {},
     "output_type": "execute_result"
    }
   ],
   "source": [
    "pred_AND"
   ]
  },
  {
   "cell_type": "code",
   "execution_count": null,
   "id": "1adcbc1f-1001-4b14-877f-991117735940",
   "metadata": {},
   "outputs": [],
   "source": []
  },
  {
   "cell_type": "code",
   "execution_count": 7,
   "id": "279dbaa6-b087-4f47-8bd7-7737942a3a23",
   "metadata": {},
   "outputs": [],
   "source": [
    "inp_data = np.array([[0, 0], [0, 1], [1, 0], [1, 1]])\n",
    "out_data_OR = np.array([0, 1, 1, 1])"
   ]
  },
  {
   "cell_type": "code",
   "execution_count": 8,
   "id": "2eab352e-53fd-4c1f-9d1f-e15683c36a5b",
   "metadata": {},
   "outputs": [],
   "source": [
    "step_function_OR = lambda x : 1 if x >= 0.5 else 0"
   ]
  },
  {
   "cell_type": "code",
   "execution_count": 9,
   "id": "4f16d96a-5dac-4d83-b17e-ef0627cc9502",
   "metadata": {},
   "outputs": [],
   "source": [
    "pred_OR = np.array(list(map(lambda i : step_function_OR(np.sum(i)), inp_data)))"
   ]
  },
  {
   "cell_type": "code",
   "execution_count": 10,
   "id": "03e4560f-4c3d-46e6-89b7-18001296e926",
   "metadata": {},
   "outputs": [
    {
     "data": {
      "text/plain": [
       "array([0, 1, 1, 1])"
      ]
     },
     "execution_count": 10,
     "metadata": {},
     "output_type": "execute_result"
    }
   ],
   "source": [
    "pred_OR"
   ]
  },
  {
   "cell_type": "code",
   "execution_count": null,
   "id": "979f277f-3f3b-4d1b-a1a1-af54675f51f3",
   "metadata": {},
   "outputs": [],
   "source": []
  }
 ],
 "metadata": {
  "kernelspec": {
   "display_name": "Python 3 (ipykernel)",
   "language": "python",
   "name": "python3"
  },
  "language_info": {
   "codemirror_mode": {
    "name": "ipython",
    "version": 3
   },
   "file_extension": ".py",
   "mimetype": "text/x-python",
   "name": "python",
   "nbconvert_exporter": "python",
   "pygments_lexer": "ipython3",
   "version": "3.11.7"
  },
  "widgets": {
   "application/vnd.jupyter.widget-state+json": {
    "state": {},
    "version_major": 2,
    "version_minor": 0
   }
  }
 },
 "nbformat": 4,
 "nbformat_minor": 5
}
