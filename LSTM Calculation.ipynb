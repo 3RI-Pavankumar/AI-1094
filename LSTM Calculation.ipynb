{
 "cells": [
  {
   "cell_type": "code",
   "execution_count": 1,
   "id": "1ad179e6-cb1e-4b39-84a2-5c0e200b6f77",
   "metadata": {},
   "outputs": [],
   "source": [
    "import numpy as np"
   ]
  },
  {
   "cell_type": "code",
   "execution_count": 2,
   "id": "d054dd85-c4b5-40e6-8bf7-03b64abecb9b",
   "metadata": {},
   "outputs": [],
   "source": [
    "def sigmoid(x):\n",
    "    return 1/(1+np.exp(-x))"
   ]
  },
  {
   "cell_type": "code",
   "execution_count": 3,
   "id": "0faea8b6-a5d4-4a8d-a8e5-bea4e900cf66",
   "metadata": {},
   "outputs": [],
   "source": [
    "def tanh(x):\n",
    "    return (np.exp(x)-np.exp(-x))/(np.exp(x)+np.exp(-x))"
   ]
  },
  {
   "cell_type": "code",
   "execution_count": 4,
   "id": "af520db7-62bc-4ae6-894a-43e6aa4f994e",
   "metadata": {},
   "outputs": [
    {
     "data": {
      "text/plain": [
       "3.848"
      ]
     },
     "execution_count": 4,
     "metadata": {},
     "output_type": "execute_result"
    }
   ],
   "source": [
    "(1.8 * 0.93) + (1.2 * 0.62) + 1.43"
   ]
  },
  {
   "cell_type": "code",
   "execution_count": 5,
   "id": "ca744288-411d-4271-a441-c037b8396c27",
   "metadata": {},
   "outputs": [
    {
     "data": {
      "text/plain": [
       "0.9791228119709511"
      ]
     },
     "execution_count": 5,
     "metadata": {},
     "output_type": "execute_result"
    }
   ],
   "source": [
    "sigmoid(3.848)"
   ]
  },
  {
   "cell_type": "code",
   "execution_count": 6,
   "id": "f41fe9d0-f7e0-4fa4-90fe-d9c0487d1bf7",
   "metadata": {},
   "outputs": [
    {
     "data": {
      "text/plain": [
       "2.2519299999999998"
      ]
     },
     "execution_count": 6,
     "metadata": {},
     "output_type": "execute_result"
    }
   ],
   "source": [
    "2.3 * 0.9791"
   ]
  },
  {
   "cell_type": "code",
   "execution_count": 7,
   "id": "69d539f3-6d44-49d6-95f7-1256009aa10f",
   "metadata": {},
   "outputs": [
    {
     "data": {
      "text/plain": [
       "3.588"
      ]
     },
     "execution_count": 7,
     "metadata": {},
     "output_type": "execute_result"
    }
   ],
   "source": [
    "(1.8 * 0.43) + (1.2 * 1.57) + 0.93"
   ]
  },
  {
   "cell_type": "code",
   "execution_count": 8,
   "id": "0fb11ed6-636a-4fa7-b641-0b8d5d01e4f7",
   "metadata": {},
   "outputs": [
    {
     "data": {
      "text/plain": [
       "0.973090560093988"
      ]
     },
     "execution_count": 8,
     "metadata": {},
     "output_type": "execute_result"
    }
   ],
   "source": [
    "sigmoid(3.588)"
   ]
  },
  {
   "cell_type": "code",
   "execution_count": 10,
   "id": "06295098-ffaa-45db-85a4-68f71e30d2a5",
   "metadata": {},
   "outputs": [
    {
     "data": {
      "text/plain": [
       "3.995"
      ]
     },
     "execution_count": 10,
     "metadata": {},
     "output_type": "execute_result"
    }
   ],
   "source": [
    "(1.8 * 1.045) + (1.2 * 0.87) + 1.07"
   ]
  },
  {
   "cell_type": "code",
   "execution_count": 11,
   "id": "af844bf1-f504-4b82-b7de-e24c51e4e6a6",
   "metadata": {},
   "outputs": [
    {
     "data": {
      "text/plain": [
       "0.9993225613725694"
      ]
     },
     "execution_count": 11,
     "metadata": {},
     "output_type": "execute_result"
    }
   ],
   "source": [
    "tanh(3.995)"
   ]
  },
  {
   "cell_type": "code",
   "execution_count": 12,
   "id": "e3d7585a-8849-454a-9b5f-e71ef7cc1ddb",
   "metadata": {},
   "outputs": [
    {
     "data": {
      "text/plain": [
       "0.9724313509605922"
      ]
     },
     "execution_count": 12,
     "metadata": {},
     "output_type": "execute_result"
    }
   ],
   "source": [
    "0.973090560093988 * 0.9993225613725694"
   ]
  },
  {
   "cell_type": "code",
   "execution_count": 13,
   "id": "f2d2c27e-2952-416d-8815-13ca222e927e",
   "metadata": {},
   "outputs": [
    {
     "data": {
      "text/plain": [
       "3.2243"
      ]
     },
     "execution_count": 13,
     "metadata": {},
     "output_type": "execute_result"
    }
   ],
   "source": [
    "2.2519 + 0.9724"
   ]
  },
  {
   "cell_type": "code",
   "execution_count": 14,
   "id": "960eff7d-94ba-4908-bc34-0ee6106e4150",
   "metadata": {},
   "outputs": [
    {
     "data": {
      "text/plain": [
       "2.465"
      ]
     },
     "execution_count": 14,
     "metadata": {},
     "output_type": "execute_result"
    }
   ],
   "source": [
    "(1.8 * 0.245) + (1.2 * 0.57) + 1.34"
   ]
  },
  {
   "cell_type": "code",
   "execution_count": 15,
   "id": "43cec685-0dd0-4d89-9a1f-bb422fb7c4b3",
   "metadata": {},
   "outputs": [
    {
     "data": {
      "text/plain": [
       "0.9216514750369404"
      ]
     },
     "execution_count": 15,
     "metadata": {},
     "output_type": "execute_result"
    }
   ],
   "source": [
    "sigmoid(2.465)"
   ]
  },
  {
   "cell_type": "code",
   "execution_count": 16,
   "id": "a42c59d4-7e10-44b9-88ec-ef6e40d51292",
   "metadata": {},
   "outputs": [
    {
     "data": {
      "text/plain": [
       "0.9968376354412156"
      ]
     },
     "execution_count": 16,
     "metadata": {},
     "output_type": "execute_result"
    }
   ],
   "source": [
    "tanh(3.224)"
   ]
  },
  {
   "cell_type": "code",
   "execution_count": 17,
   "id": "9701d663-220e-478a-8356-fb037d621d1f",
   "metadata": {},
   "outputs": [
    {
     "data": {
      "text/plain": [
       "0.9187368770767322"
      ]
     },
     "execution_count": 17,
     "metadata": {},
     "output_type": "execute_result"
    }
   ],
   "source": [
    "0.9216514750369404 * 0.9968376354412156"
   ]
  },
  {
   "cell_type": "code",
   "execution_count": 18,
   "id": "9a665cc1-f2fe-429b-a5c9-5269b1db8a95",
   "metadata": {},
   "outputs": [
    {
     "data": {
      "text/plain": [
       "2.7187"
      ]
     },
     "execution_count": 18,
     "metadata": {},
     "output_type": "execute_result"
    }
   ],
   "source": [
    "1.8 + 0.9187"
   ]
  },
  {
   "cell_type": "code",
   "execution_count": null,
   "id": "821a3050-a904-42e8-bafc-d79498c3ddf8",
   "metadata": {},
   "outputs": [],
   "source": []
  }
 ],
 "metadata": {
  "kernelspec": {
   "display_name": "Python 3 (ipykernel)",
   "language": "python",
   "name": "python3"
  },
  "language_info": {
   "codemirror_mode": {
    "name": "ipython",
    "version": 3
   },
   "file_extension": ".py",
   "mimetype": "text/x-python",
   "name": "python",
   "nbconvert_exporter": "python",
   "pygments_lexer": "ipython3",
   "version": "3.11.7"
  },
  "widgets": {
   "application/vnd.jupyter.widget-state+json": {
    "state": {},
    "version_major": 2,
    "version_minor": 0
   }
  }
 },
 "nbformat": 4,
 "nbformat_minor": 5
}
