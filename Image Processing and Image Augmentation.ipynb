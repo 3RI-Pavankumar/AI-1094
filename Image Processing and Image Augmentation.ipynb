{
 "cells": [
  {
   "cell_type": "code",
   "execution_count": 1,
   "id": "a494400c-d57d-4d49-944f-e2b386ad7ba9",
   "metadata": {
    "scrolled": true
   },
   "outputs": [
    {
     "name": "stdout",
     "output_type": "stream",
     "text": [
      "Requirement already satisfied: opencv-python in c:\\users\\soft\\appdata\\local\\programs\\python\\python311\\lib\\site-packages (4.9.0.80)\n",
      "Requirement already satisfied: numpy>=1.21.2 in c:\\users\\soft\\appdata\\local\\programs\\python\\python311\\lib\\site-packages (from opencv-python) (1.26.3)\n",
      "Note: you may need to restart the kernel to use updated packages.\n"
     ]
    },
    {
     "name": "stderr",
     "output_type": "stream",
     "text": [
      "\n",
      "[notice] A new release of pip is available: 24.1 -> 24.1.1\n",
      "[notice] To update, run: C:\\Users\\Soft\\AppData\\Local\\Programs\\Python\\Python311\\python.exe -m pip install --upgrade pip\n"
     ]
    }
   ],
   "source": [
    "pip install opencv-python"
   ]
  },
  {
   "cell_type": "code",
   "execution_count": 2,
   "id": "a8719c41-57fa-4c33-9094-af5d43d54533",
   "metadata": {},
   "outputs": [],
   "source": [
    "import cv2 as cv"
   ]
  },
  {
   "cell_type": "markdown",
   "id": "386ce54d-7dbc-4180-830a-2a431738fdb7",
   "metadata": {},
   "source": [
    "### 1) Reading Image"
   ]
  },
  {
   "cell_type": "code",
   "execution_count": 3,
   "id": "2bc6baee-3269-400e-9d9b-31910129ea2c",
   "metadata": {},
   "outputs": [],
   "source": [
    "img = cv.imread(r\"C:\\Users\\Soft\\Desktop\\Py\\AI 1094\\animals.jpg\")"
   ]
  },
  {
   "cell_type": "code",
   "execution_count": 4,
   "id": "5064759e-e21d-450e-8222-7f128187a912",
   "metadata": {
    "scrolled": true
   },
   "outputs": [
    {
     "data": {
      "text/plain": [
       "array([[[255, 255, 255],\n",
       "        [255, 255, 255],\n",
       "        [255, 255, 255],\n",
       "        ...,\n",
       "        [255, 255, 255],\n",
       "        [255, 255, 255],\n",
       "        [255, 255, 255]],\n",
       "\n",
       "       [[255, 255, 255],\n",
       "        [255, 255, 255],\n",
       "        [255, 255, 255],\n",
       "        ...,\n",
       "        [255, 255, 255],\n",
       "        [255, 255, 255],\n",
       "        [255, 255, 255]],\n",
       "\n",
       "       [[255, 255, 255],\n",
       "        [255, 255, 255],\n",
       "        [255, 255, 255],\n",
       "        ...,\n",
       "        [255, 255, 255],\n",
       "        [255, 255, 255],\n",
       "        [255, 255, 255]],\n",
       "\n",
       "       ...,\n",
       "\n",
       "       [[255, 255, 255],\n",
       "        [255, 255, 255],\n",
       "        [255, 255, 255],\n",
       "        ...,\n",
       "        [255, 255, 255],\n",
       "        [255, 255, 255],\n",
       "        [255, 255, 255]],\n",
       "\n",
       "       [[255, 255, 255],\n",
       "        [255, 255, 255],\n",
       "        [255, 255, 255],\n",
       "        ...,\n",
       "        [255, 255, 255],\n",
       "        [255, 255, 255],\n",
       "        [255, 255, 255]],\n",
       "\n",
       "       [[255, 255, 255],\n",
       "        [255, 255, 255],\n",
       "        [255, 255, 255],\n",
       "        ...,\n",
       "        [255, 255, 255],\n",
       "        [255, 255, 255],\n",
       "        [255, 255, 255]]], dtype=uint8)"
      ]
     },
     "execution_count": 4,
     "metadata": {},
     "output_type": "execute_result"
    }
   ],
   "source": [
    "img"
   ]
  },
  {
   "cell_type": "code",
   "execution_count": 5,
   "id": "3838900a-4462-40d2-9493-66560a79c762",
   "metadata": {},
   "outputs": [
    {
     "data": {
      "text/plain": [
       "(4908, 4813, 3)"
      ]
     },
     "execution_count": 5,
     "metadata": {},
     "output_type": "execute_result"
    }
   ],
   "source": [
    "img.shape"
   ]
  },
  {
   "cell_type": "markdown",
   "id": "937c917a-b238-408b-95f0-b29198652eca",
   "metadata": {},
   "source": [
    "### 2) Showing Image"
   ]
  },
  {
   "cell_type": "code",
   "execution_count": 6,
   "id": "9f1f3241-a7d9-4040-a440-865e3f81edf0",
   "metadata": {},
   "outputs": [
    {
     "data": {
      "text/plain": [
       "-1"
      ]
     },
     "execution_count": 6,
     "metadata": {},
     "output_type": "execute_result"
    }
   ],
   "source": [
    "cv.imshow(\"Original Image\", img)\n",
    "cv.waitKey(0)"
   ]
  },
  {
   "cell_type": "markdown",
   "id": "7192e41f-8e68-4eb7-989a-4c0c16746112",
   "metadata": {},
   "source": [
    "### 3) Resizing Image"
   ]
  },
  {
   "cell_type": "code",
   "execution_count": 7,
   "id": "b79c8a6c-15ec-483a-9101-86c34ef8950a",
   "metadata": {},
   "outputs": [
    {
     "data": {
      "text/plain": [
       "(4908, 4813)"
      ]
     },
     "execution_count": 7,
     "metadata": {},
     "output_type": "execute_result"
    }
   ],
   "source": [
    "height, width = img.shape[0], img.shape[1]\n",
    "height, width"
   ]
  },
  {
   "cell_type": "code",
   "execution_count": 8,
   "id": "5f1ae9d8-e057-437d-ac05-e3244849476f",
   "metadata": {},
   "outputs": [],
   "source": [
    "img = cv.resize(img, (width//7, height//7))"
   ]
  },
  {
   "cell_type": "code",
   "execution_count": 9,
   "id": "4634ce45-162f-457a-a4cf-f47167680817",
   "metadata": {},
   "outputs": [
    {
     "data": {
      "text/plain": [
       "-1"
      ]
     },
     "execution_count": 9,
     "metadata": {},
     "output_type": "execute_result"
    }
   ],
   "source": [
    "cv.imshow(\"Resized Image\", img)\n",
    "cv.waitKey(0)"
   ]
  },
  {
   "cell_type": "markdown",
   "id": "b06f4756-5492-4320-bd0a-ab9b7823d798",
   "metadata": {},
   "source": [
    "### 4) Image in one color at a time (RGB)"
   ]
  },
  {
   "cell_type": "code",
   "execution_count": 10,
   "id": "39e4e9b7-e966-44ab-93e3-c57c455990c4",
   "metadata": {},
   "outputs": [],
   "source": [
    "red_img = img.copy()"
   ]
  },
  {
   "cell_type": "code",
   "execution_count": 11,
   "id": "aa244366-2364-4f7b-9fce-7d046c9a501d",
   "metadata": {},
   "outputs": [],
   "source": [
    "red_img[:,:,[0, 1]]=0"
   ]
  },
  {
   "cell_type": "code",
   "execution_count": 12,
   "id": "53c2886d-285e-41be-8ebc-238e60b9ba77",
   "metadata": {},
   "outputs": [
    {
     "data": {
      "text/plain": [
       "-1"
      ]
     },
     "execution_count": 12,
     "metadata": {},
     "output_type": "execute_result"
    }
   ],
   "source": [
    "cv.imshow(\"Red Image\", red_img)\n",
    "cv.waitKey(0)"
   ]
  },
  {
   "cell_type": "code",
   "execution_count": 13,
   "id": "4f0747aa-47f3-45bc-a905-1452b1a0f42d",
   "metadata": {},
   "outputs": [],
   "source": [
    "green_img = img.copy()"
   ]
  },
  {
   "cell_type": "code",
   "execution_count": 14,
   "id": "18087614-e11e-46c1-a4c5-a5aa3e0bb28f",
   "metadata": {},
   "outputs": [],
   "source": [
    "green_img[:,:,[0, 2]]=0"
   ]
  },
  {
   "cell_type": "code",
   "execution_count": 15,
   "id": "5d0ddac5-cbc4-46b1-9691-78de57fe5d93",
   "metadata": {},
   "outputs": [
    {
     "data": {
      "text/plain": [
       "-1"
      ]
     },
     "execution_count": 15,
     "metadata": {},
     "output_type": "execute_result"
    }
   ],
   "source": [
    "cv.imshow(\"Green Image\", green_img)\n",
    "cv.waitKey(0)"
   ]
  },
  {
   "cell_type": "code",
   "execution_count": 16,
   "id": "ae838f0c-94e0-4628-b240-cf3b265791dc",
   "metadata": {},
   "outputs": [],
   "source": [
    "blue_img = img.copy()"
   ]
  },
  {
   "cell_type": "code",
   "execution_count": 17,
   "id": "9221119c-3161-4c0d-94f5-7cfec6769887",
   "metadata": {},
   "outputs": [],
   "source": [
    "blue_img[:,:,[1, 2]]=0"
   ]
  },
  {
   "cell_type": "code",
   "execution_count": 18,
   "id": "7f1667d2-5d1b-43b0-a402-212099a50a99",
   "metadata": {},
   "outputs": [
    {
     "data": {
      "text/plain": [
       "-1"
      ]
     },
     "execution_count": 18,
     "metadata": {},
     "output_type": "execute_result"
    }
   ],
   "source": [
    "cv.imshow(\"Blue Image\", blue_img)\n",
    "cv.waitKey(0)"
   ]
  },
  {
   "cell_type": "markdown",
   "id": "c0e178f7-512b-4277-8474-f8d53ef57249",
   "metadata": {},
   "source": [
    "### 5) Image Stacking"
   ]
  },
  {
   "cell_type": "code",
   "execution_count": 19,
   "id": "81fa6d53-b7e1-4214-9db8-d7d7d26589c5",
   "metadata": {},
   "outputs": [],
   "source": [
    "import numpy as np"
   ]
  },
  {
   "cell_type": "code",
   "execution_count": 20,
   "id": "3434738b-70f7-4e6a-8522-08028c3770de",
   "metadata": {},
   "outputs": [],
   "source": [
    "stacked_img = np.hstack([blue_img, green_img, red_img])"
   ]
  },
  {
   "cell_type": "code",
   "execution_count": 21,
   "id": "3f631119-f8e7-4132-962e-85dce25e7c09",
   "metadata": {},
   "outputs": [
    {
     "data": {
      "text/plain": [
       "-1"
      ]
     },
     "execution_count": 21,
     "metadata": {},
     "output_type": "execute_result"
    }
   ],
   "source": [
    "cv.imshow(\"Stacked Image\", stacked_img)\n",
    "cv.waitKey(0)"
   ]
  },
  {
   "cell_type": "markdown",
   "id": "da4e23e4-01a4-4df4-9f97-d0b49460c412",
   "metadata": {},
   "source": [
    "### 6) Adding And Subtracting Image"
   ]
  },
  {
   "cell_type": "code",
   "execution_count": 22,
   "id": "49b1ebaf-9006-41ac-912f-6cc8f543a938",
   "metadata": {},
   "outputs": [],
   "source": [
    "addition = blue_img+green_img+red_img"
   ]
  },
  {
   "cell_type": "code",
   "execution_count": 23,
   "id": "ad4616bf-bc77-4d30-8a83-03c042931484",
   "metadata": {},
   "outputs": [
    {
     "data": {
      "text/plain": [
       "-1"
      ]
     },
     "execution_count": 23,
     "metadata": {},
     "output_type": "execute_result"
    }
   ],
   "source": [
    "cv.imshow(\"Addition Image\", addition)\n",
    "cv.waitKey(0)"
   ]
  },
  {
   "cell_type": "code",
   "execution_count": 24,
   "id": "c609e452-5b44-485d-8a24-9f354584f38f",
   "metadata": {},
   "outputs": [],
   "source": [
    "subtraction = blue_img-green_img-red_img"
   ]
  },
  {
   "cell_type": "code",
   "execution_count": 25,
   "id": "56ca5acf-1e43-44eb-81fc-cf944bd10941",
   "metadata": {},
   "outputs": [
    {
     "data": {
      "text/plain": [
       "-1"
      ]
     },
     "execution_count": 25,
     "metadata": {},
     "output_type": "execute_result"
    }
   ],
   "source": [
    "cv.imshow(\"Subtraction Image\", subtraction)\n",
    "cv.waitKey(0)"
   ]
  },
  {
   "cell_type": "markdown",
   "id": "5bfabe04-7ad1-46f7-89b2-ff5386448542",
   "metadata": {},
   "source": [
    "### 7) Gray Image"
   ]
  },
  {
   "cell_type": "code",
   "execution_count": 26,
   "id": "c88fd083-7957-48f9-b877-de7acbd2e8a1",
   "metadata": {},
   "outputs": [],
   "source": [
    "gray_img = cv.cvtColor(img, cv.COLOR_BGR2GRAY)"
   ]
  },
  {
   "cell_type": "code",
   "execution_count": 27,
   "id": "2252cf32-7459-4c47-81c4-c32c03a7534f",
   "metadata": {},
   "outputs": [
    {
     "data": {
      "text/plain": [
       "-1"
      ]
     },
     "execution_count": 27,
     "metadata": {},
     "output_type": "execute_result"
    }
   ],
   "source": [
    "cv.imshow(\"Gray Image\", gray_img)\n",
    "cv.waitKey(0)"
   ]
  },
  {
   "cell_type": "markdown",
   "id": "e63f40ad-d83e-4901-ad75-911cf1b0b0c1",
   "metadata": {},
   "source": [
    "### 8) Shapes on Image - (Rectangle, Line, Circle)"
   ]
  },
  {
   "cell_type": "code",
   "execution_count": 82,
   "id": "7439985e-1be8-4f53-86ca-3a8b956bab5d",
   "metadata": {},
   "outputs": [],
   "source": [
    "copy_img = img.copy()"
   ]
  },
  {
   "cell_type": "code",
   "execution_count": 83,
   "id": "36d98244-8805-47c0-8d8b-bb03fced27e5",
   "metadata": {},
   "outputs": [],
   "source": [
    "copy_img = cv.rectangle(copy_img, (270, 10), (450, 330), (100, 25, 54), 4)"
   ]
  },
  {
   "cell_type": "code",
   "execution_count": 84,
   "id": "ecf5fee8-5192-4e3f-b0a2-0c9a83e6d0f9",
   "metadata": {},
   "outputs": [
    {
     "data": {
      "text/plain": [
       "-1"
      ]
     },
     "execution_count": 84,
     "metadata": {},
     "output_type": "execute_result"
    }
   ],
   "source": [
    "cv.imshow(\"Shape on Image\", copy_img)\n",
    "cv.waitKey(0)"
   ]
  },
  {
   "cell_type": "code",
   "execution_count": 31,
   "id": "0fc527f3-7064-4483-8f18-3598f0788807",
   "metadata": {},
   "outputs": [],
   "source": [
    "copy_img = cv.line(copy_img, (500, 350), (600, 590), (21, 10, 150), 4)"
   ]
  },
  {
   "cell_type": "code",
   "execution_count": 32,
   "id": "208a6162-2de8-440a-b42c-1d2d2caab65c",
   "metadata": {},
   "outputs": [
    {
     "data": {
      "text/plain": [
       "-1"
      ]
     },
     "execution_count": 32,
     "metadata": {},
     "output_type": "execute_result"
    }
   ],
   "source": [
    "cv.imshow(\"Shape on Image\", copy_img)\n",
    "cv.waitKey(0)"
   ]
  },
  {
   "cell_type": "code",
   "execution_count": 33,
   "id": "e6eb079c-5926-4032-8b5c-5a92ccb64789",
   "metadata": {},
   "outputs": [],
   "source": [
    "copy_img = cv.circle(copy_img, (550, 450), 140, (34, 200, 190), 4)"
   ]
  },
  {
   "cell_type": "code",
   "execution_count": 34,
   "id": "7f7f61e1-9335-4715-8651-c620d89391a2",
   "metadata": {},
   "outputs": [
    {
     "data": {
      "text/plain": [
       "-1"
      ]
     },
     "execution_count": 34,
     "metadata": {},
     "output_type": "execute_result"
    }
   ],
   "source": [
    "cv.imshow(\"Shape on Image\", copy_img)\n",
    "cv.waitKey(0)"
   ]
  },
  {
   "cell_type": "markdown",
   "id": "654ab599-5c4b-4995-91c8-df9ef1bfa8ef",
   "metadata": {},
   "source": [
    "### 9) Blurred Image"
   ]
  },
  {
   "cell_type": "code",
   "execution_count": 35,
   "id": "646e2791-f5a3-47f9-acea-9b22e3008bb8",
   "metadata": {},
   "outputs": [],
   "source": [
    "blur_img = cv.GaussianBlur(img, (15, 15), 3)"
   ]
  },
  {
   "cell_type": "code",
   "execution_count": 36,
   "id": "54687de3-37a7-4f68-8ecb-3fc751c7532d",
   "metadata": {},
   "outputs": [
    {
     "data": {
      "text/plain": [
       "-1"
      ]
     },
     "execution_count": 36,
     "metadata": {},
     "output_type": "execute_result"
    }
   ],
   "source": [
    "cv.imshow(\"Blur Image\", blur_img)\n",
    "cv.waitKey(0)"
   ]
  },
  {
   "cell_type": "markdown",
   "id": "75be726b-e4a6-49f9-977d-8b92549ccea4",
   "metadata": {},
   "source": [
    "### 10) Rotating Image"
   ]
  },
  {
   "cell_type": "code",
   "execution_count": 37,
   "id": "e36c177b-ee44-4487-a39d-14e4afde26cd",
   "metadata": {},
   "outputs": [
    {
     "data": {
      "text/plain": [
       "(701, 687)"
      ]
     },
     "execution_count": 37,
     "metadata": {},
     "output_type": "execute_result"
    }
   ],
   "source": [
    "(w, h) = img.shape[:2]\n",
    "w, h"
   ]
  },
  {
   "cell_type": "code",
   "execution_count": 38,
   "id": "dfeb44e9-b4a4-4e8f-adfa-beac591d80d0",
   "metadata": {},
   "outputs": [
    {
     "data": {
      "text/plain": [
       "(350, 343)"
      ]
     },
     "execution_count": 38,
     "metadata": {},
     "output_type": "execute_result"
    }
   ],
   "source": [
    "center = w//2, h//2\n",
    "center"
   ]
  },
  {
   "cell_type": "code",
   "execution_count": 39,
   "id": "37f7e408-96bd-4d50-9f39-dd5fea70b1a6",
   "metadata": {},
   "outputs": [],
   "source": [
    "angle = 45"
   ]
  },
  {
   "cell_type": "code",
   "execution_count": 40,
   "id": "05532fa1-6a9f-4172-b5fb-f296681abb7b",
   "metadata": {},
   "outputs": [],
   "source": [
    "matrix = cv.getRotationMatrix2D(center, angle, 1)"
   ]
  },
  {
   "cell_type": "code",
   "execution_count": 41,
   "id": "ccb98e70-1315-4cfd-9054-97bb5c42a3ab",
   "metadata": {},
   "outputs": [],
   "source": [
    "rotated_img = cv.warpAffine(img, matrix, (w, h))"
   ]
  },
  {
   "cell_type": "code",
   "execution_count": 42,
   "id": "2d3fe09f-46f4-4b68-a885-2dedb8f5a0c6",
   "metadata": {},
   "outputs": [
    {
     "data": {
      "text/plain": [
       "-1"
      ]
     },
     "execution_count": 42,
     "metadata": {},
     "output_type": "execute_result"
    }
   ],
   "source": [
    "cv.imshow(\"Rotated Image\", rotated_img)\n",
    "cv.waitKey(0)"
   ]
  },
  {
   "cell_type": "markdown",
   "id": "e15ea3d7-2f50-47ee-a4ca-add7c76ad0d0",
   "metadata": {},
   "source": [
    "### 11) Edge Detection on Image"
   ]
  },
  {
   "cell_type": "code",
   "execution_count": 43,
   "id": "64d9053e-efba-4ade-b556-4e3f5cefa7aa",
   "metadata": {},
   "outputs": [],
   "source": [
    "edges = cv.Canny(gray_img, 100, 200)"
   ]
  },
  {
   "cell_type": "code",
   "execution_count": 44,
   "id": "102d5e87-be28-4e83-931a-371561b4f17d",
   "metadata": {},
   "outputs": [
    {
     "data": {
      "text/plain": [
       "-1"
      ]
     },
     "execution_count": 44,
     "metadata": {},
     "output_type": "execute_result"
    }
   ],
   "source": [
    "cv.imshow(\"Edges of Image\", edges)\n",
    "cv.waitKey(0)"
   ]
  },
  {
   "cell_type": "code",
   "execution_count": 45,
   "id": "08f76881-5ad0-45f1-9f8e-f1087c7e58eb",
   "metadata": {},
   "outputs": [
    {
     "data": {
      "text/plain": [
       "-1"
      ]
     },
     "execution_count": 45,
     "metadata": {},
     "output_type": "execute_result"
    }
   ],
   "source": [
    "edges2 = cv.Canny(gray_img, 150, 300)\n",
    "edges3 = cv.Canny(gray_img, 100, 150)\n",
    "cv.imshow(\"Edges 2 of Image\", edges2)\n",
    "cv.imshow(\"Edges 3 of Image\", edges3)\n",
    "cv.waitKey(0)"
   ]
  },
  {
   "cell_type": "markdown",
   "id": "f7db722c-4524-448f-b239-bee511c46d46",
   "metadata": {},
   "source": [
    "### 12) Shearing Image"
   ]
  },
  {
   "cell_type": "code",
   "execution_count": 46,
   "id": "53d6a489-9cdf-4780-b3d8-0c497c01a485",
   "metadata": {},
   "outputs": [],
   "source": [
    "shear_factor = 0.3"
   ]
  },
  {
   "cell_type": "code",
   "execution_count": 47,
   "id": "afa92c9a-6fea-4dd2-a74a-d3b4232a0466",
   "metadata": {},
   "outputs": [],
   "source": [
    "sheared_matrix = np.array([[1, shear_factor, 0], [0, 1, 0]], dtype=float)"
   ]
  },
  {
   "cell_type": "code",
   "execution_count": 48,
   "id": "018a300c-c5c5-4873-95d8-8b526104c7f6",
   "metadata": {},
   "outputs": [],
   "source": [
    "sheared_img = cv.warpAffine(img, sheared_matrix, (h+int(h*shear_factor), w))"
   ]
  },
  {
   "cell_type": "code",
   "execution_count": 49,
   "id": "84a822c4-6f6f-444c-ad5d-09819093dca1",
   "metadata": {},
   "outputs": [
    {
     "data": {
      "text/plain": [
       "-1"
      ]
     },
     "execution_count": 49,
     "metadata": {},
     "output_type": "execute_result"
    }
   ],
   "source": [
    "cv.imshow(\"Sheared Image\", sheared_img)\n",
    "cv.waitKey(0)"
   ]
  },
  {
   "cell_type": "markdown",
   "id": "289df41f-d2e5-4b6e-a667-0d637bc47c95",
   "metadata": {},
   "source": [
    "### 13) Cropping Image"
   ]
  },
  {
   "cell_type": "code",
   "execution_count": 95,
   "id": "c7e6947c-bfda-46a0-87e4-11a14a72ab53",
   "metadata": {},
   "outputs": [],
   "source": [
    "cropped_image = img[10:330, 270:450, :]   # Height, width, Color"
   ]
  },
  {
   "cell_type": "code",
   "execution_count": 98,
   "id": "d880d283-342e-46cd-af89-634d111c42d8",
   "metadata": {},
   "outputs": [
    {
     "data": {
      "text/plain": [
       "-1"
      ]
     },
     "execution_count": 98,
     "metadata": {},
     "output_type": "execute_result"
    }
   ],
   "source": [
    "cv.imshow(\"Cropped Image\", cropped_image)\n",
    "cv.waitKey(0)"
   ]
  },
  {
   "cell_type": "markdown",
   "id": "dab43e5c-1ac8-4c29-ba2e-f1214db3d8e3",
   "metadata": {},
   "source": [
    "### 14) Flipped Image"
   ]
  },
  {
   "cell_type": "code",
   "execution_count": 97,
   "id": "43b11656-1199-4bb5-8c76-210097d31c2c",
   "metadata": {},
   "outputs": [],
   "source": [
    "flipped_img = cv.flip(img, 1)"
   ]
  },
  {
   "cell_type": "code",
   "execution_count": 102,
   "id": "f33e5f8a-8e49-44cd-8ccb-ab0c2ba3cc9b",
   "metadata": {},
   "outputs": [
    {
     "data": {
      "text/plain": [
       "-1"
      ]
     },
     "execution_count": 102,
     "metadata": {},
     "output_type": "execute_result"
    }
   ],
   "source": [
    "cv.imshow(\"Flipped Image\", flipped_img)\n",
    "cv.waitKey(0)"
   ]
  },
  {
   "cell_type": "code",
   "execution_count": 105,
   "id": "64beb4a4-3801-4317-b276-d7f93e0cd3fb",
   "metadata": {},
   "outputs": [
    {
     "data": {
      "text/plain": [
       "-1"
      ]
     },
     "execution_count": 105,
     "metadata": {},
     "output_type": "execute_result"
    }
   ],
   "source": [
    "flipped_img2 = cv.flip(img, 0)\n",
    "cv.imshow(\"Flipped Image\", flipped_img2)\n",
    "cv.waitKey(0)"
   ]
  },
  {
   "cell_type": "code",
   "execution_count": 106,
   "id": "1441cda0-4636-4105-8f69-1d490c0d34dd",
   "metadata": {},
   "outputs": [
    {
     "data": {
      "text/plain": [
       "-1"
      ]
     },
     "execution_count": 106,
     "metadata": {},
     "output_type": "execute_result"
    }
   ],
   "source": [
    "flipped_img3 = cv.flip(img, -1)\n",
    "cv.imshow(\"Flipped Image\", flipped_img3)\n",
    "cv.waitKey(0)"
   ]
  },
  {
   "cell_type": "markdown",
   "id": "3dcd93a1-02f1-4c14-a8ce-e8ca33b5bc59",
   "metadata": {},
   "source": [
    "### 15) Storing Image"
   ]
  },
  {
   "cell_type": "code",
   "execution_count": 109,
   "id": "2f78e950-d53e-4bb6-90ff-5ec9b6e75f30",
   "metadata": {},
   "outputs": [
    {
     "data": {
      "text/plain": [
       "True"
      ]
     },
     "execution_count": 109,
     "metadata": {},
     "output_type": "execute_result"
    }
   ],
   "source": [
    "cv.imwrite(\"Flipped Image.jpg\", flipped_img3)"
   ]
  },
  {
   "cell_type": "code",
   "execution_count": null,
   "id": "8d1e4865-9df7-47ef-bbda-472f93115454",
   "metadata": {},
   "outputs": [],
   "source": []
  }
 ],
 "metadata": {
  "kernelspec": {
   "display_name": "Python 3 (ipykernel)",
   "language": "python",
   "name": "python3"
  },
  "language_info": {
   "codemirror_mode": {
    "name": "ipython",
    "version": 3
   },
   "file_extension": ".py",
   "mimetype": "text/x-python",
   "name": "python",
   "nbconvert_exporter": "python",
   "pygments_lexer": "ipython3",
   "version": "3.11.7"
  },
  "widgets": {
   "application/vnd.jupyter.widget-state+json": {
    "state": {},
    "version_major": 2,
    "version_minor": 0
   }
  }
 },
 "nbformat": 4,
 "nbformat_minor": 5
}
