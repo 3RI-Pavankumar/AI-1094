{
 "cells": [
  {
   "cell_type": "code",
   "execution_count": 7,
   "id": "bd7e4f25-2ba2-4e46-af64-b8d1ac284c83",
   "metadata": {},
   "outputs": [],
   "source": [
    "import numpy as np\n",
    "import tensorflow as tf\n",
    "from tensorflow.keras.preprocessing.text import Tokenizer\n",
    "from tensorflow.keras.preprocessing import sequence\n",
    "from tensorflow.keras.models import Sequential\n",
    "from tensorflow.keras.layers import Embedding, SimpleRNN, Dense"
   ]
  },
  {
   "cell_type": "code",
   "execution_count": 2,
   "id": "336d07f9-4cd4-4886-aebd-6176547f056a",
   "metadata": {},
   "outputs": [],
   "source": [
    "import warnings \n",
    "warnings.filterwarnings(\"ignore\")"
   ]
  },
  {
   "cell_type": "code",
   "execution_count": 3,
   "id": "9d9f13e8-f4fb-4e97-9a8d-a407e33df9b3",
   "metadata": {},
   "outputs": [],
   "source": [
    "data = [\n",
    "(\"An exhilarating and unforgettable experience\",\"Positive\"),\n",
    "(\"A disappointing and confusing mess\",\"Negative\"),\n",
    "(\"Brilliant performances and stunning cinematography\",\"Positive\"),\n",
    "(\"A boring and uninspired film\",\"Negative\"),\n",
    "(\"A beautifully crafted story that tugs at the heartstrings\",\"Positive\"),\n",
    "(\"Terribly acted and poorly directed\",\"Negative\"),\n",
    "(\"A groundbreaking film in the sci-fi genre\",\"Positive\"),\n",
    "(\"An uninteresting plot with flat characters\",\"Negative\"),\n",
    "(\"A cinematic triumph that is not to be missed\",\"Positive\"),\n",
    "(\"A waste of time and money\",\"Negative\"),\n",
    "(\"An exceptional film that exceeds all expectations\",\"Positive\"),\n",
    "(\"A film that fails on every level\",\"Negative\"),\n",
    "(\"An overrated and underwhelming movie\",\"Negative\"),\n",
    "(\"A masterpiece of storytelling and acting\",\"Positive\"),\n",
    "(\"A predictable and dull experience\",\"Negative\"),\n",
    "(\"A tragic love story with stunning visuals\",\"Positive\"),\n",
    "(\"An exhilarating and unforgettable experience\",\"Positive\"),\n",
    "(\"A disappointing and confusing mess\",\"Negative\"),\n",
    "(\"An exceptional film that exceeds all expectations\",\"Positive\"),\n",
    "(\"A waste of time and money\",\"Negative\"),\n",
    "]"
   ]
  },
  {
   "cell_type": "code",
   "execution_count": 4,
   "id": "17e0b04c-5b06-4a08-a3e7-69bc5409a306",
   "metadata": {},
   "outputs": [],
   "source": [
    "reviews, sentiments = zip(*data)"
   ]
  },
  {
   "cell_type": "code",
   "execution_count": 5,
   "id": "c28cdc46-b4bf-41c3-82df-6f90e2f37361",
   "metadata": {
    "scrolled": true
   },
   "outputs": [
    {
     "data": {
      "text/plain": [
       "('An exhilarating and unforgettable experience',\n",
       " 'A disappointing and confusing mess',\n",
       " 'Brilliant performances and stunning cinematography',\n",
       " 'A boring and uninspired film',\n",
       " 'A beautifully crafted story that tugs at the heartstrings',\n",
       " 'Terribly acted and poorly directed',\n",
       " 'A groundbreaking film in the sci-fi genre',\n",
       " 'An uninteresting plot with flat characters',\n",
       " 'A cinematic triumph that is not to be missed',\n",
       " 'A waste of time and money',\n",
       " 'An exceptional film that exceeds all expectations',\n",
       " 'A film that fails on every level',\n",
       " 'An overrated and underwhelming movie',\n",
       " 'A masterpiece of storytelling and acting',\n",
       " 'A predictable and dull experience',\n",
       " 'A tragic love story with stunning visuals',\n",
       " 'An exhilarating and unforgettable experience',\n",
       " 'A disappointing and confusing mess',\n",
       " 'An exceptional film that exceeds all expectations',\n",
       " 'A waste of time and money')"
      ]
     },
     "execution_count": 5,
     "metadata": {},
     "output_type": "execute_result"
    }
   ],
   "source": [
    "reviews"
   ]
  },
  {
   "cell_type": "code",
   "execution_count": 6,
   "id": "07923bed-a2c1-490e-9f19-4ea2af9d6322",
   "metadata": {
    "scrolled": true
   },
   "outputs": [
    {
     "data": {
      "text/plain": [
       "('Positive',\n",
       " 'Negative',\n",
       " 'Positive',\n",
       " 'Negative',\n",
       " 'Positive',\n",
       " 'Negative',\n",
       " 'Positive',\n",
       " 'Negative',\n",
       " 'Positive',\n",
       " 'Negative',\n",
       " 'Positive',\n",
       " 'Negative',\n",
       " 'Negative',\n",
       " 'Positive',\n",
       " 'Negative',\n",
       " 'Positive',\n",
       " 'Positive',\n",
       " 'Negative',\n",
       " 'Positive',\n",
       " 'Negative')"
      ]
     },
     "execution_count": 6,
     "metadata": {},
     "output_type": "execute_result"
    }
   ],
   "source": [
    "sentiments"
   ]
  },
  {
   "cell_type": "code",
   "execution_count": 8,
   "id": "020530a0-1eb9-4e71-9f84-0d59356fd00a",
   "metadata": {},
   "outputs": [],
   "source": [
    "tokenize = Tokenizer()"
   ]
  },
  {
   "cell_type": "code",
   "execution_count": 9,
   "id": "1670f626-f947-4925-87cd-1e613fdb301f",
   "metadata": {},
   "outputs": [],
   "source": [
    "tokenize.fit_on_texts(reviews)"
   ]
  },
  {
   "cell_type": "code",
   "execution_count": 10,
   "id": "e794fd94-6d6a-4583-8ead-ff9494637b30",
   "metadata": {},
   "outputs": [],
   "source": [
    "seq = tokenize.texts_to_sequences(reviews)"
   ]
  },
  {
   "cell_type": "code",
   "execution_count": 11,
   "id": "e202761d-fd33-4c0b-93c1-b8fe56bd7504",
   "metadata": {
    "scrolled": true
   },
   "outputs": [
    {
     "data": {
      "text/plain": [
       "[[3, 8, 1, 9, 6],\n",
       " [2, 10, 1, 11, 12],\n",
       " [24, 25, 1, 13, 26],\n",
       " [2, 27, 1, 28, 4],\n",
       " [2, 29, 30, 14, 5, 31, 32, 15, 33],\n",
       " [34, 35, 1, 36, 37],\n",
       " [2, 38, 4, 39, 15, 40, 41, 42],\n",
       " [3, 43, 44, 16, 45, 46],\n",
       " [2, 47, 48, 5, 49, 50, 51, 52, 53],\n",
       " [2, 17, 7, 18, 1, 19],\n",
       " [3, 20, 4, 5, 21, 22, 23],\n",
       " [2, 4, 5, 54, 55, 56, 57],\n",
       " [3, 58, 1, 59, 60],\n",
       " [2, 61, 7, 62, 1, 63],\n",
       " [2, 64, 1, 65, 6],\n",
       " [2, 66, 67, 14, 16, 13, 68],\n",
       " [3, 8, 1, 9, 6],\n",
       " [2, 10, 1, 11, 12],\n",
       " [3, 20, 4, 5, 21, 22, 23],\n",
       " [2, 17, 7, 18, 1, 19]]"
      ]
     },
     "execution_count": 11,
     "metadata": {},
     "output_type": "execute_result"
    }
   ],
   "source": [
    "seq"
   ]
  },
  {
   "cell_type": "code",
   "execution_count": 12,
   "id": "4b3059f1-269c-4529-9aa5-1b2ecde38ba5",
   "metadata": {},
   "outputs": [],
   "source": [
    "vocab_size = len(tokenize.word_index)+1"
   ]
  },
  {
   "cell_type": "code",
   "execution_count": 13,
   "id": "9b5c5b6a-3702-4822-9574-6ba1c710c171",
   "metadata": {},
   "outputs": [
    {
     "data": {
      "text/plain": [
       "69"
      ]
     },
     "execution_count": 13,
     "metadata": {},
     "output_type": "execute_result"
    }
   ],
   "source": [
    "vocab_size"
   ]
  },
  {
   "cell_type": "code",
   "execution_count": 14,
   "id": "52ce56f6-2a0b-4ad7-8ac5-7859f4e726a9",
   "metadata": {
    "scrolled": true
   },
   "outputs": [
    {
     "data": {
      "text/plain": [
       "{'and': 1,\n",
       " 'a': 2,\n",
       " 'an': 3,\n",
       " 'film': 4,\n",
       " 'that': 5,\n",
       " 'experience': 6,\n",
       " 'of': 7,\n",
       " 'exhilarating': 8,\n",
       " 'unforgettable': 9,\n",
       " 'disappointing': 10,\n",
       " 'confusing': 11,\n",
       " 'mess': 12,\n",
       " 'stunning': 13,\n",
       " 'story': 14,\n",
       " 'the': 15,\n",
       " 'with': 16,\n",
       " 'waste': 17,\n",
       " 'time': 18,\n",
       " 'money': 19,\n",
       " 'exceptional': 20,\n",
       " 'exceeds': 21,\n",
       " 'all': 22,\n",
       " 'expectations': 23,\n",
       " 'brilliant': 24,\n",
       " 'performances': 25,\n",
       " 'cinematography': 26,\n",
       " 'boring': 27,\n",
       " 'uninspired': 28,\n",
       " 'beautifully': 29,\n",
       " 'crafted': 30,\n",
       " 'tugs': 31,\n",
       " 'at': 32,\n",
       " 'heartstrings': 33,\n",
       " 'terribly': 34,\n",
       " 'acted': 35,\n",
       " 'poorly': 36,\n",
       " 'directed': 37,\n",
       " 'groundbreaking': 38,\n",
       " 'in': 39,\n",
       " 'sci': 40,\n",
       " 'fi': 41,\n",
       " 'genre': 42,\n",
       " 'uninteresting': 43,\n",
       " 'plot': 44,\n",
       " 'flat': 45,\n",
       " 'characters': 46,\n",
       " 'cinematic': 47,\n",
       " 'triumph': 48,\n",
       " 'is': 49,\n",
       " 'not': 50,\n",
       " 'to': 51,\n",
       " 'be': 52,\n",
       " 'missed': 53,\n",
       " 'fails': 54,\n",
       " 'on': 55,\n",
       " 'every': 56,\n",
       " 'level': 57,\n",
       " 'overrated': 58,\n",
       " 'underwhelming': 59,\n",
       " 'movie': 60,\n",
       " 'masterpiece': 61,\n",
       " 'storytelling': 62,\n",
       " 'acting': 63,\n",
       " 'predictable': 64,\n",
       " 'dull': 65,\n",
       " 'tragic': 66,\n",
       " 'love': 67,\n",
       " 'visuals': 68}"
      ]
     },
     "execution_count": 14,
     "metadata": {},
     "output_type": "execute_result"
    }
   ],
   "source": [
    "tokenize.word_index"
   ]
  },
  {
   "cell_type": "code",
   "execution_count": 16,
   "id": "c22874e5-a01d-4660-aec0-42682070d0a3",
   "metadata": {},
   "outputs": [
    {
     "data": {
      "text/plain": [
       "9"
      ]
     },
     "execution_count": 16,
     "metadata": {},
     "output_type": "execute_result"
    }
   ],
   "source": [
    "max_length = max([len(s) for s in seq])\n",
    "max_length"
   ]
  },
  {
   "cell_type": "code",
   "execution_count": 17,
   "id": "c67df852-caab-4b7a-8977-b96db2c1388c",
   "metadata": {},
   "outputs": [],
   "source": [
    "padded_seq = sequence.pad_sequences(seq, maxlen=max_length, padding=\"post\")"
   ]
  },
  {
   "cell_type": "code",
   "execution_count": 18,
   "id": "1be4aa50-0c59-4230-917e-fab8ccb4edeb",
   "metadata": {
    "scrolled": true
   },
   "outputs": [
    {
     "data": {
      "text/plain": [
       "array([[ 3,  8,  1,  9,  6,  0,  0,  0,  0],\n",
       "       [ 2, 10,  1, 11, 12,  0,  0,  0,  0],\n",
       "       [24, 25,  1, 13, 26,  0,  0,  0,  0],\n",
       "       [ 2, 27,  1, 28,  4,  0,  0,  0,  0],\n",
       "       [ 2, 29, 30, 14,  5, 31, 32, 15, 33],\n",
       "       [34, 35,  1, 36, 37,  0,  0,  0,  0],\n",
       "       [ 2, 38,  4, 39, 15, 40, 41, 42,  0],\n",
       "       [ 3, 43, 44, 16, 45, 46,  0,  0,  0],\n",
       "       [ 2, 47, 48,  5, 49, 50, 51, 52, 53],\n",
       "       [ 2, 17,  7, 18,  1, 19,  0,  0,  0],\n",
       "       [ 3, 20,  4,  5, 21, 22, 23,  0,  0],\n",
       "       [ 2,  4,  5, 54, 55, 56, 57,  0,  0],\n",
       "       [ 3, 58,  1, 59, 60,  0,  0,  0,  0],\n",
       "       [ 2, 61,  7, 62,  1, 63,  0,  0,  0],\n",
       "       [ 2, 64,  1, 65,  6,  0,  0,  0,  0],\n",
       "       [ 2, 66, 67, 14, 16, 13, 68,  0,  0],\n",
       "       [ 3,  8,  1,  9,  6,  0,  0,  0,  0],\n",
       "       [ 2, 10,  1, 11, 12,  0,  0,  0,  0],\n",
       "       [ 3, 20,  4,  5, 21, 22, 23,  0,  0],\n",
       "       [ 2, 17,  7, 18,  1, 19,  0,  0,  0]])"
      ]
     },
     "execution_count": 18,
     "metadata": {},
     "output_type": "execute_result"
    }
   ],
   "source": [
    "padded_seq"
   ]
  },
  {
   "cell_type": "code",
   "execution_count": 19,
   "id": "584e9d48-b6f2-4bbe-adeb-595b15e75190",
   "metadata": {},
   "outputs": [],
   "source": [
    "labels = np.array([1 if i == \"Positive\" else 0 for i in sentiments])"
   ]
  },
  {
   "cell_type": "code",
   "execution_count": 20,
   "id": "17841464-7e06-44eb-b664-841e6c28c0d6",
   "metadata": {},
   "outputs": [
    {
     "data": {
      "text/plain": [
       "array([1, 0, 1, 0, 1, 0, 1, 0, 1, 0, 1, 0, 0, 1, 0, 1, 1, 0, 1, 0])"
      ]
     },
     "execution_count": 20,
     "metadata": {},
     "output_type": "execute_result"
    }
   ],
   "source": [
    "labels"
   ]
  },
  {
   "cell_type": "code",
   "execution_count": 22,
   "id": "34dd02ae-aadd-4520-aac8-4445fd6698ef",
   "metadata": {},
   "outputs": [],
   "source": [
    "model = Sequential([\n",
    "    Embedding(vocab_size, 32, input_length=max_length),\n",
    "    SimpleRNN(32),\n",
    "    Dense(1, activation=\"sigmoid\")\n",
    "])"
   ]
  },
  {
   "cell_type": "code",
   "execution_count": 24,
   "id": "48ebc846-e211-4fd8-985e-af88daee1dc8",
   "metadata": {},
   "outputs": [],
   "source": [
    "model.compile(optimizer=\"adam\", loss=\"binary_crossentropy\", metrics=[\"accuracy\"])"
   ]
  },
  {
   "cell_type": "code",
   "execution_count": 25,
   "id": "848f4bac-21d5-430f-96a0-5c088d96e5ba",
   "metadata": {
    "scrolled": true
   },
   "outputs": [
    {
     "name": "stdout",
     "output_type": "stream",
     "text": [
      "Epoch 1/30\n",
      "WARNING:tensorflow:From C:\\Users\\Soft\\AppData\\Local\\Programs\\Python\\Python311\\Lib\\site-packages\\keras\\src\\utils\\tf_utils.py:492: The name tf.ragged.RaggedTensorValue is deprecated. Please use tf.compat.v1.ragged.RaggedTensorValue instead.\n",
      "\n",
      "WARNING:tensorflow:From C:\\Users\\Soft\\AppData\\Local\\Programs\\Python\\Python311\\Lib\\site-packages\\keras\\src\\engine\\base_layer_utils.py:384: The name tf.executing_eagerly_outside_functions is deprecated. Please use tf.compat.v1.executing_eagerly_outside_functions instead.\n",
      "\n",
      "1/1 [==============================] - 2s 2s/step - loss: 0.6814 - accuracy: 0.6000\n",
      "Epoch 2/30\n",
      "1/1 [==============================] - 0s 12ms/step - loss: 0.6591 - accuracy: 0.8500\n",
      "Epoch 3/30\n",
      "1/1 [==============================] - 0s 13ms/step - loss: 0.6369 - accuracy: 0.9000\n",
      "Epoch 4/30\n",
      "1/1 [==============================] - 0s 15ms/step - loss: 0.6143 - accuracy: 0.9500\n",
      "Epoch 5/30\n",
      "1/1 [==============================] - 0s 11ms/step - loss: 0.5911 - accuracy: 0.9500\n",
      "Epoch 6/30\n",
      "1/1 [==============================] - 0s 15ms/step - loss: 0.5671 - accuracy: 0.9500\n",
      "Epoch 7/30\n",
      "1/1 [==============================] - 0s 14ms/step - loss: 0.5422 - accuracy: 0.9500\n",
      "Epoch 8/30\n",
      "1/1 [==============================] - 0s 19ms/step - loss: 0.5164 - accuracy: 0.9500\n",
      "Epoch 9/30\n",
      "1/1 [==============================] - 0s 18ms/step - loss: 0.4897 - accuracy: 0.9500\n",
      "Epoch 10/30\n",
      "1/1 [==============================] - 0s 17ms/step - loss: 0.4622 - accuracy: 0.9500\n",
      "Epoch 11/30\n",
      "1/1 [==============================] - 0s 18ms/step - loss: 0.4340 - accuracy: 0.9500\n",
      "Epoch 12/30\n",
      "1/1 [==============================] - 0s 16ms/step - loss: 0.4052 - accuracy: 0.9500\n",
      "Epoch 13/30\n",
      "1/1 [==============================] - 0s 9ms/step - loss: 0.3762 - accuracy: 0.9500\n",
      "Epoch 14/30\n",
      "1/1 [==============================] - 0s 20ms/step - loss: 0.3471 - accuracy: 0.9500\n",
      "Epoch 15/30\n",
      "1/1 [==============================] - 0s 18ms/step - loss: 0.3181 - accuracy: 0.9500\n",
      "Epoch 16/30\n",
      "1/1 [==============================] - 0s 36ms/step - loss: 0.2894 - accuracy: 1.0000\n",
      "Epoch 17/30\n",
      "1/1 [==============================] - 0s 20ms/step - loss: 0.2614 - accuracy: 1.0000\n",
      "Epoch 18/30\n",
      "1/1 [==============================] - 0s 52ms/step - loss: 0.2343 - accuracy: 1.0000\n",
      "Epoch 19/30\n",
      "1/1 [==============================] - 0s 31ms/step - loss: 0.2083 - accuracy: 1.0000\n",
      "Epoch 20/30\n",
      "1/1 [==============================] - 0s 19ms/step - loss: 0.1836 - accuracy: 1.0000\n",
      "Epoch 21/30\n",
      "1/1 [==============================] - 0s 15ms/step - loss: 0.1605 - accuracy: 1.0000\n",
      "Epoch 22/30\n",
      "1/1 [==============================] - 0s 10ms/step - loss: 0.1392 - accuracy: 1.0000\n",
      "Epoch 23/30\n",
      "1/1 [==============================] - 0s 14ms/step - loss: 0.1199 - accuracy: 1.0000\n",
      "Epoch 24/30\n",
      "1/1 [==============================] - 0s 10ms/step - loss: 0.1027 - accuracy: 1.0000\n",
      "Epoch 25/30\n",
      "1/1 [==============================] - 0s 8ms/step - loss: 0.0875 - accuracy: 1.0000\n",
      "Epoch 26/30\n",
      "1/1 [==============================] - 0s 22ms/step - loss: 0.0745 - accuracy: 1.0000\n",
      "Epoch 27/30\n",
      "1/1 [==============================] - 0s 12ms/step - loss: 0.0634 - accuracy: 1.0000\n",
      "Epoch 28/30\n",
      "1/1 [==============================] - 0s 20ms/step - loss: 0.0541 - accuracy: 1.0000\n",
      "Epoch 29/30\n",
      "1/1 [==============================] - 0s 9ms/step - loss: 0.0464 - accuracy: 1.0000\n",
      "Epoch 30/30\n",
      "1/1 [==============================] - 0s 17ms/step - loss: 0.0400 - accuracy: 1.0000\n"
     ]
    },
    {
     "data": {
      "text/plain": [
       "<keras.src.callbacks.History at 0x153feb47750>"
      ]
     },
     "execution_count": 25,
     "metadata": {},
     "output_type": "execute_result"
    }
   ],
   "source": [
    "model.fit(padded_seq, labels, epochs=30, verbose=1)"
   ]
  },
  {
   "cell_type": "code",
   "execution_count": 26,
   "id": "281f523c-817c-4608-8487-5b03f630a4c5",
   "metadata": {},
   "outputs": [],
   "source": [
    "import matplotlib.pyplot as plt"
   ]
  },
  {
   "cell_type": "code",
   "execution_count": 29,
   "id": "a046021b-b5d6-4aaf-8ac5-2baf742819b7",
   "metadata": {
    "scrolled": true
   },
   "outputs": [
    {
     "data": {
      "image/png": "[encoded data removed]",
      "text/plain": [
       "<Figure size 800x500 with 1 Axes>"
      ]
     },
     "metadata": {},
     "output_type": "display_data"
    }
   ],
   "source": [
    "plt.figure(figsize=(8, 5))\n",
    "plt.plot(model.history.history[\"loss\"], label=\"Training Loss\")\n",
    "plt.legend()\n",
    "plt.title(\"Loss Visualization\")\n",
    "plt.xlabel(\"Epochs\")\n",
    "plt.ylabel(\"Loss\")\n",
    "plt.show()"
   ]
  },
  {
   "cell_type": "code",
   "execution_count": 30,
   "id": "c59e7cc4-f877-4ad3-9046-3cc322949c96",
   "metadata": {
    "scrolled": true
   },
   "outputs": [
    {
     "data": {
      "image/png": "[encoded data removed]",
      "text/plain": [
       "<Figure size 800x500 with 1 Axes>"
      ]
     },
     "metadata": {},
     "output_type": "display_data"
    }
   ],
   "source": [
    "plt.figure(figsize=(8, 5))\n",
    "plt.plot(model.history.history[\"accuracy\"], label=\"Training Accuracy\")\n",
    "plt.legend()\n",
    "plt.title(\"Accuracy Visualization\")\n",
    "plt.xlabel(\"Epochs\")\n",
    "plt.ylabel(\"Accuracy\")\n",
    "plt.show()"
   ]
  },
  {
   "cell_type": "code",
   "execution_count": 31,
   "id": "b0af4a8a-eca4-46ea-9469-72f091a9c2e1",
   "metadata": {},
   "outputs": [],
   "source": [
    "new_sentiment = \"The cinematography was stunnig, the film is masterpeace, a must-watch\""
   ]
  },
  {
   "cell_type": "code",
   "execution_count": 32,
   "id": "d2f5af66-edae-4e23-b235-03e6ba99c883",
   "metadata": {},
   "outputs": [],
   "source": [
    "new_seq = tokenize.texts_to_sequences([new_sentiment])"
   ]
  },
  {
   "cell_type": "code",
   "execution_count": 33,
   "id": "1dc97aad-c06b-416d-a019-5f34b2347ce4",
   "metadata": {},
   "outputs": [
    {
     "data": {
      "text/plain": [
       "[[15, 26, 15, 4, 49, 2]]"
      ]
     },
     "execution_count": 33,
     "metadata": {},
     "output_type": "execute_result"
    }
   ],
   "source": [
    "new_seq"
   ]
  },
  {
   "cell_type": "code",
   "execution_count": 34,
   "id": "8c76ecf4-cef0-4683-9594-e2aa5acbcce1",
   "metadata": {},
   "outputs": [],
   "source": [
    "new_padded_seq = sequence.pad_sequences(new_seq, maxlen=max_length, padding=\"post\")"
   ]
  },
  {
   "cell_type": "code",
   "execution_count": 35,
   "id": "3184be68-4210-48f6-a994-da8baa58b79f",
   "metadata": {},
   "outputs": [
    {
     "data": {
      "text/plain": [
       "array([[15, 26, 15,  4, 49,  2,  0,  0,  0]])"
      ]
     },
     "execution_count": 35,
     "metadata": {},
     "output_type": "execute_result"
    }
   ],
   "source": [
    "new_padded_seq"
   ]
  },
  {
   "cell_type": "code",
   "execution_count": 36,
   "id": "75ff5f62-a0c4-42af-bc76-b6612121ac87",
   "metadata": {},
   "outputs": [
    {
     "name": "stdout",
     "output_type": "stream",
     "text": [
      "1/1 [==============================] - 0s 233ms/step\n"
     ]
    }
   ],
   "source": [
    "prediction = model.predict(new_padded_seq)"
   ]
  },
  {
   "cell_type": "code",
   "execution_count": 37,
   "id": "52007fda-c30c-4a48-a3d1-36e950ff1449",
   "metadata": {},
   "outputs": [],
   "source": [
    "sentiment = \"Positive\" if prediction >= 0.5 else \"Negative\""
   ]
  },
  {
   "cell_type": "code",
   "execution_count": 38,
   "id": "c6783e73-2f7b-4b5e-b14a-8ab660e38bb1",
   "metadata": {},
   "outputs": [
    {
     "data": {
      "text/plain": [
       "'Positive'"
      ]
     },
     "execution_count": 38,
     "metadata": {},
     "output_type": "execute_result"
    }
   ],
   "source": [
    "sentiment"
   ]
  },
  {
   "cell_type": "code",
   "execution_count": 45,
   "id": "1f7d15dc-2777-46d1-8004-26a7dcda66c3",
   "metadata": {},
   "outputs": [],
   "source": [
    "def sentiment_analyzer(sentiment):\n",
    "    new_seq = tokenize.texts_to_sequences([sentiment])\n",
    "    new_padded_seq = sequence.pad_sequences(new_seq, maxlen=max_length, padding=\"post\")\n",
    "    prediction = model.predict(new_padded_seq)\n",
    "    sentiment = \"Positive\" if prediction >= 0.5 else \"Negative\"\n",
    "    return sentiment"
   ]
  },
  {
   "cell_type": "code",
   "execution_count": 46,
   "id": "ca61996f-f950-436b-97fb-6db50faed6cf",
   "metadata": {},
   "outputs": [
    {
     "name": "stdout",
     "output_type": "stream",
     "text": [
      "1/1 [==============================] - 0s 43ms/step\n"
     ]
    },
    {
     "data": {
      "text/plain": [
       "'Negative'"
      ]
     },
     "execution_count": 46,
     "metadata": {},
     "output_type": "execute_result"
    }
   ],
   "source": [
    "sentiment_analyzer(\"I couldn't stand watching it, a complete waste of time.\")"
   ]
  },
  {
   "cell_type": "code",
   "execution_count": null,
   "id": "f4bdd053-a4b0-4796-95b1-6819b832f7c4",
   "metadata": {},
   "outputs": [],
   "source": []
  }
 ],
 "metadata": {
  "kernelspec": {
   "display_name": "Python 3 (ipykernel)",
   "language": "python",
   "name": "python3"
  },
  "language_info": {
   "codemirror_mode": {
    "name": "ipython",
    "version": 3
   },
   "file_extension": ".py",
   "mimetype": "text/x-python",
   "name": "python",
   "nbconvert_exporter": "python",
   "pygments_lexer": "ipython3",
   "version": "3.11.7"
  },
  "widgets": {
   "application/vnd.jupyter.widget-state+json": {
    "state": {},
    "version_major": 2,
    "version_minor": 0
   }
  }
 },
 "nbformat": 4,
 "nbformat_minor": 5
}
