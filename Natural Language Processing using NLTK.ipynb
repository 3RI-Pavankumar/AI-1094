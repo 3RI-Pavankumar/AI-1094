{
 "cells": [
  {
   "cell_type": "code",
   "execution_count": 3,
   "id": "05e420da-f36a-45ca-a4d2-5608ebdd0360",
   "metadata": {},
   "outputs": [],
   "source": [
    "import nltk"
   ]
  },
  {
   "cell_type": "markdown",
   "id": "2fb98355-e2b2-4115-8d50-b30963be89f2",
   "metadata": {},
   "source": [
    "## Word Tokenizer"
   ]
  },
  {
   "cell_type": "code",
   "execution_count": 5,
   "id": "647a83a7-29b1-4300-984f-d433d9b0e66f",
   "metadata": {},
   "outputs": [],
   "source": [
    "from nltk.tokenize import word_tokenize"
   ]
  },
  {
   "cell_type": "code",
   "execution_count": 6,
   "id": "8cd0a4aa-db46-4a3f-9bbf-b62287810126",
   "metadata": {},
   "outputs": [],
   "source": [
    "text = \"The India men's national cricket team represents India in men's international cricket. It is governed by the Board of Control for Cricket in India (BCCI), and is a Full Member of the International Cricket Council (ICC) with Test, One Day International (ODI) and Twenty20 International (T20I) status. India are the current ICC T20 World Cup Champions.\""
   ]
  },
  {
   "cell_type": "code",
   "execution_count": 7,
   "id": "9fddff6d-b605-412d-93ea-02d7ba6f050f",
   "metadata": {},
   "outputs": [],
   "source": [
    "words = word_tokenize(text)"
   ]
  },
  {
   "cell_type": "code",
   "execution_count": 8,
   "id": "e8f739aa-3d9d-41c6-8e7d-0fa7d162bbd0",
   "metadata": {},
   "outputs": [
    {
     "data": {
      "text/plain": [
       "['The',\n",
       " 'India',\n",
       " 'men',\n",
       " \"'s\",\n",
       " 'national',\n",
       " 'cricket',\n",
       " 'team',\n",
       " 'represents',\n",
       " 'India',\n",
       " 'in',\n",
       " 'men',\n",
       " \"'s\",\n",
       " 'international',\n",
       " 'cricket',\n",
       " '.',\n",
       " 'It',\n",
       " 'is',\n",
       " 'governed',\n",
       " 'by',\n",
       " 'the',\n",
       " 'Board',\n",
       " 'of',\n",
       " 'Control',\n",
       " 'for',\n",
       " 'Cricket',\n",
       " 'in',\n",
       " 'India',\n",
       " '(',\n",
       " 'BCCI',\n",
       " ')',\n",
       " ',',\n",
       " 'and',\n",
       " 'is',\n",
       " 'a',\n",
       " 'Full',\n",
       " 'Member',\n",
       " 'of',\n",
       " 'the',\n",
       " 'International',\n",
       " 'Cricket',\n",
       " 'Council',\n",
       " '(',\n",
       " 'ICC',\n",
       " ')',\n",
       " 'with',\n",
       " 'Test',\n",
       " ',',\n",
       " 'One',\n",
       " 'Day',\n",
       " 'International',\n",
       " '(',\n",
       " 'ODI',\n",
       " ')',\n",
       " 'and',\n",
       " 'Twenty20',\n",
       " 'International',\n",
       " '(',\n",
       " 'T20I',\n",
       " ')',\n",
       " 'status',\n",
       " '.',\n",
       " 'India',\n",
       " 'are',\n",
       " 'the',\n",
       " 'current',\n",
       " 'ICC',\n",
       " 'T20',\n",
       " 'World',\n",
       " 'Cup',\n",
       " 'Champions',\n",
       " '.']"
      ]
     },
     "execution_count": 8,
     "metadata": {},
     "output_type": "execute_result"
    }
   ],
   "source": [
    "words"
   ]
  },
  {
   "cell_type": "markdown",
   "id": "9d01e381-aed1-4a8e-b1ce-3c060434d4db",
   "metadata": {},
   "source": [
    "## Sentence Tokenizer"
   ]
  },
  {
   "cell_type": "code",
   "execution_count": 11,
   "id": "cdaaa765-a696-4270-bcbd-fced753ec9b0",
   "metadata": {},
   "outputs": [],
   "source": [
    "from nltk.tokenize import sent_tokenize"
   ]
  },
  {
   "cell_type": "code",
   "execution_count": 12,
   "id": "06706116-8f24-44e5-b9a3-e9574356ddd1",
   "metadata": {},
   "outputs": [],
   "source": [
    "sentences = sent_tokenize(text)"
   ]
  },
  {
   "cell_type": "code",
   "execution_count": 13,
   "id": "00f64cbe-8ff2-4f2a-b68b-480433eb0ecb",
   "metadata": {},
   "outputs": [
    {
     "data": {
      "text/plain": [
       "[\"The India men's national cricket team represents India in men's international cricket.\",\n",
       " 'It is governed by the Board of Control for Cricket in India (BCCI), and is a Full Member of the International Cricket Council (ICC) with Test, One Day International (ODI) and Twenty20 International (T20I) status.',\n",
       " 'India are the current ICC T20 World Cup Champions.']"
      ]
     },
     "execution_count": 13,
     "metadata": {},
     "output_type": "execute_result"
    }
   ],
   "source": [
    "sentences"
   ]
  },
  {
   "cell_type": "markdown",
   "id": "2a6a6f94-bd75-4590-84a9-e7480e42de34",
   "metadata": {},
   "source": [
    "## Stopwords Removing"
   ]
  },
  {
   "cell_type": "code",
   "execution_count": 14,
   "id": "96e31e6c-9014-4886-9555-ff2507004fc4",
   "metadata": {},
   "outputs": [],
   "source": [
    "from nltk.corpus import stopwords"
   ]
  },
  {
   "cell_type": "code",
   "execution_count": 15,
   "id": "f2082827-fb13-4c8d-ba7c-2d3bb60ed554",
   "metadata": {},
   "outputs": [],
   "source": [
    "stop_words = set(stopwords.words(\"english\"))"
   ]
  },
  {
   "cell_type": "code",
   "execution_count": 16,
   "id": "a67b702c-ff34-4a26-8e0f-c97f16ae8156",
   "metadata": {},
   "outputs": [
    {
     "data": {
      "text/plain": [
       "{'a',\n",
       " 'about',\n",
       " 'above',\n",
       " 'after',\n",
       " 'again',\n",
       " 'against',\n",
       " 'ain',\n",
       " 'all',\n",
       " 'am',\n",
       " 'an',\n",
       " 'and',\n",
       " 'any',\n",
       " 'are',\n",
       " 'aren',\n",
       " \"aren't\",\n",
       " 'as',\n",
       " 'at',\n",
       " 'be',\n",
       " 'because',\n",
       " 'been',\n",
       " 'before',\n",
       " 'being',\n",
       " 'below',\n",
       " 'between',\n",
       " 'both',\n",
       " 'but',\n",
       " 'by',\n",
       " 'can',\n",
       " 'couldn',\n",
       " \"couldn't\",\n",
       " 'd',\n",
       " 'did',\n",
       " 'didn',\n",
       " \"didn't\",\n",
       " 'do',\n",
       " 'does',\n",
       " 'doesn',\n",
       " \"doesn't\",\n",
       " 'doing',\n",
       " 'don',\n",
       " \"don't\",\n",
       " 'down',\n",
       " 'during',\n",
       " 'each',\n",
       " 'few',\n",
       " 'for',\n",
       " 'from',\n",
       " 'further',\n",
       " 'had',\n",
       " 'hadn',\n",
       " \"hadn't\",\n",
       " 'has',\n",
       " 'hasn',\n",
       " \"hasn't\",\n",
       " 'have',\n",
       " 'haven',\n",
       " \"haven't\",\n",
       " 'having',\n",
       " 'he',\n",
       " 'her',\n",
       " 'here',\n",
       " 'hers',\n",
       " 'herself',\n",
       " 'him',\n",
       " 'himself',\n",
       " 'his',\n",
       " 'how',\n",
       " 'i',\n",
       " 'if',\n",
       " 'in',\n",
       " 'into',\n",
       " 'is',\n",
       " 'isn',\n",
       " \"isn't\",\n",
       " 'it',\n",
       " \"it's\",\n",
       " 'its',\n",
       " 'itself',\n",
       " 'just',\n",
       " 'll',\n",
       " 'm',\n",
       " 'ma',\n",
       " 'me',\n",
       " 'mightn',\n",
       " \"mightn't\",\n",
       " 'more',\n",
       " 'most',\n",
       " 'mustn',\n",
       " \"mustn't\",\n",
       " 'my',\n",
       " 'myself',\n",
       " 'needn',\n",
       " \"needn't\",\n",
       " 'no',\n",
       " 'nor',\n",
       " 'not',\n",
       " 'now',\n",
       " 'o',\n",
       " 'of',\n",
       " 'off',\n",
       " 'on',\n",
       " 'once',\n",
       " 'only',\n",
       " 'or',\n",
       " 'other',\n",
       " 'our',\n",
       " 'ours',\n",
       " 'ourselves',\n",
       " 'out',\n",
       " 'over',\n",
       " 'own',\n",
       " 're',\n",
       " 's',\n",
       " 'same',\n",
       " 'shan',\n",
       " \"shan't\",\n",
       " 'she',\n",
       " \"she's\",\n",
       " 'should',\n",
       " \"should've\",\n",
       " 'shouldn',\n",
       " \"shouldn't\",\n",
       " 'so',\n",
       " 'some',\n",
       " 'such',\n",
       " 't',\n",
       " 'than',\n",
       " 'that',\n",
       " \"that'll\",\n",
       " 'the',\n",
       " 'their',\n",
       " 'theirs',\n",
       " 'them',\n",
       " 'themselves',\n",
       " 'then',\n",
       " 'there',\n",
       " 'these',\n",
       " 'they',\n",
       " 'this',\n",
       " 'those',\n",
       " 'through',\n",
       " 'to',\n",
       " 'too',\n",
       " 'under',\n",
       " 'until',\n",
       " 'up',\n",
       " 've',\n",
       " 'very',\n",
       " 'was',\n",
       " 'wasn',\n",
       " \"wasn't\",\n",
       " 'we',\n",
       " 'were',\n",
       " 'weren',\n",
       " \"weren't\",\n",
       " 'what',\n",
       " 'when',\n",
       " 'where',\n",
       " 'which',\n",
       " 'while',\n",
       " 'who',\n",
       " 'whom',\n",
       " 'why',\n",
       " 'will',\n",
       " 'with',\n",
       " 'won',\n",
       " \"won't\",\n",
       " 'wouldn',\n",
       " \"wouldn't\",\n",
       " 'y',\n",
       " 'you',\n",
       " \"you'd\",\n",
       " \"you'll\",\n",
       " \"you're\",\n",
       " \"you've\",\n",
       " 'your',\n",
       " 'yours',\n",
       " 'yourself',\n",
       " 'yourselves'}"
      ]
     },
     "execution_count": 16,
     "metadata": {},
     "output_type": "execute_result"
    }
   ],
   "source": [
    "stop_words"
   ]
  },
  {
   "cell_type": "code",
   "execution_count": 19,
   "id": "9cac9dff-5d36-43e4-bd52-bb16a3c9eec1",
   "metadata": {},
   "outputs": [],
   "source": [
    "filtered_words = [i for i in words if i.lower() not in stop_words]"
   ]
  },
  {
   "cell_type": "code",
   "execution_count": 20,
   "id": "6b3ec0d7-0afd-4349-9430-5b1ad5cdac0c",
   "metadata": {
    "scrolled": true
   },
   "outputs": [
    {
     "data": {
      "text/plain": [
       "['India',\n",
       " 'men',\n",
       " \"'s\",\n",
       " 'national',\n",
       " 'cricket',\n",
       " 'team',\n",
       " 'represents',\n",
       " 'India',\n",
       " 'men',\n",
       " \"'s\",\n",
       " 'international',\n",
       " 'cricket',\n",
       " '.',\n",
       " 'governed',\n",
       " 'Board',\n",
       " 'Control',\n",
       " 'Cricket',\n",
       " 'India',\n",
       " '(',\n",
       " 'BCCI',\n",
       " ')',\n",
       " ',',\n",
       " 'Full',\n",
       " 'Member',\n",
       " 'International',\n",
       " 'Cricket',\n",
       " 'Council',\n",
       " '(',\n",
       " 'ICC',\n",
       " ')',\n",
       " 'Test',\n",
       " ',',\n",
       " 'One',\n",
       " 'Day',\n",
       " 'International',\n",
       " '(',\n",
       " 'ODI',\n",
       " ')',\n",
       " 'Twenty20',\n",
       " 'International',\n",
       " '(',\n",
       " 'T20I',\n",
       " ')',\n",
       " 'status',\n",
       " '.',\n",
       " 'India',\n",
       " 'current',\n",
       " 'ICC',\n",
       " 'T20',\n",
       " 'World',\n",
       " 'Cup',\n",
       " 'Champions',\n",
       " '.']"
      ]
     },
     "execution_count": 20,
     "metadata": {},
     "output_type": "execute_result"
    }
   ],
   "source": [
    "filtered_words"
   ]
  },
  {
   "cell_type": "code",
   "execution_count": 21,
   "id": "95bf936e-b934-43b4-b2d3-7cc5c588b008",
   "metadata": {},
   "outputs": [
    {
     "data": {
      "text/plain": [
       "(71, 53)"
      ]
     },
     "execution_count": 21,
     "metadata": {},
     "output_type": "execute_result"
    }
   ],
   "source": [
    "len(words), len(filtered_words)"
   ]
  },
  {
   "cell_type": "code",
   "execution_count": 22,
   "id": "0670586a-7db0-4ffb-9728-25d8b0e60afb",
   "metadata": {},
   "outputs": [],
   "source": [
    "import string"
   ]
  },
  {
   "cell_type": "code",
   "execution_count": 24,
   "id": "77dafdd0-1158-4090-8c38-4e73832e7d4d",
   "metadata": {},
   "outputs": [],
   "source": [
    "punctuations = list(string.punctuation)"
   ]
  },
  {
   "cell_type": "code",
   "execution_count": 25,
   "id": "bd7c7e67-5db2-415f-97c8-933c6b06744a",
   "metadata": {
    "scrolled": true
   },
   "outputs": [
    {
     "data": {
      "text/plain": [
       "['!',\n",
       " '\"',\n",
       " '#',\n",
       " '$',\n",
       " '%',\n",
       " '&',\n",
       " \"'\",\n",
       " '(',\n",
       " ')',\n",
       " '*',\n",
       " '+',\n",
       " ',',\n",
       " '-',\n",
       " '.',\n",
       " '/',\n",
       " ':',\n",
       " ';',\n",
       " '<',\n",
       " '=',\n",
       " '>',\n",
       " '?',\n",
       " '@',\n",
       " '[',\n",
       " '\\\\',\n",
       " ']',\n",
       " '^',\n",
       " '_',\n",
       " '`',\n",
       " '{',\n",
       " '|',\n",
       " '}',\n",
       " '~']"
      ]
     },
     "execution_count": 25,
     "metadata": {},
     "output_type": "execute_result"
    }
   ],
   "source": [
    "punctuations"
   ]
  },
  {
   "cell_type": "code",
   "execution_count": 26,
   "id": "b54c8fa5-2511-4f6f-a35c-850fc7672fb7",
   "metadata": {},
   "outputs": [],
   "source": [
    "filtered_words_2 = [i for i in filtered_words if i not in punctuations]"
   ]
  },
  {
   "cell_type": "code",
   "execution_count": 27,
   "id": "543463e4-53db-45bf-aa0c-0579fb12e5a5",
   "metadata": {
    "scrolled": true
   },
   "outputs": [
    {
     "data": {
      "text/plain": [
       "['India',\n",
       " 'men',\n",
       " \"'s\",\n",
       " 'national',\n",
       " 'cricket',\n",
       " 'team',\n",
       " 'represents',\n",
       " 'India',\n",
       " 'men',\n",
       " \"'s\",\n",
       " 'international',\n",
       " 'cricket',\n",
       " 'governed',\n",
       " 'Board',\n",
       " 'Control',\n",
       " 'Cricket',\n",
       " 'India',\n",
       " 'BCCI',\n",
       " 'Full',\n",
       " 'Member',\n",
       " 'International',\n",
       " 'Cricket',\n",
       " 'Council',\n",
       " 'ICC',\n",
       " 'Test',\n",
       " 'One',\n",
       " 'Day',\n",
       " 'International',\n",
       " 'ODI',\n",
       " 'Twenty20',\n",
       " 'International',\n",
       " 'T20I',\n",
       " 'status',\n",
       " 'India',\n",
       " 'current',\n",
       " 'ICC',\n",
       " 'T20',\n",
       " 'World',\n",
       " 'Cup',\n",
       " 'Champions']"
      ]
     },
     "execution_count": 27,
     "metadata": {},
     "output_type": "execute_result"
    }
   ],
   "source": [
    "filtered_words_2"
   ]
  },
  {
   "cell_type": "code",
   "execution_count": 28,
   "id": "8cf5fc0f-e740-4e66-9ecc-c3cabfdc2815",
   "metadata": {},
   "outputs": [
    {
     "data": {
      "text/plain": [
       "(71, 53, 40)"
      ]
     },
     "execution_count": 28,
     "metadata": {},
     "output_type": "execute_result"
    }
   ],
   "source": [
    "len(words), len(filtered_words), len(filtered_words_2)"
   ]
  },
  {
   "cell_type": "markdown",
   "id": "593624d4-ffa6-4737-a010-59310a2e2997",
   "metadata": {},
   "source": [
    "## Stemming"
   ]
  },
  {
   "cell_type": "code",
   "execution_count": 31,
   "id": "543daef2-f049-4fb1-8513-024d84d1b88c",
   "metadata": {},
   "outputs": [],
   "source": [
    "from nltk.stem import PorterStemmer"
   ]
  },
  {
   "cell_type": "code",
   "execution_count": 32,
   "id": "d214bd75-fce8-453a-8ca8-308c8ee5cfb6",
   "metadata": {},
   "outputs": [],
   "source": [
    "stemmer = PorterStemmer()"
   ]
  },
  {
   "cell_type": "code",
   "execution_count": 33,
   "id": "f19f6e39-cae3-4ca1-b239-3a8c77167334",
   "metadata": {},
   "outputs": [],
   "source": [
    "words2 = [\"running\", \"worked\", \"rainy\", \"literally\", \"having\"]"
   ]
  },
  {
   "cell_type": "code",
   "execution_count": 34,
   "id": "63ea39bf-1bcf-4854-a792-cde5837cc72c",
   "metadata": {},
   "outputs": [
    {
     "data": {
      "text/plain": [
       "['run', 'work', 'raini', 'liter', 'have']"
      ]
     },
     "execution_count": 34,
     "metadata": {},
     "output_type": "execute_result"
    }
   ],
   "source": [
    "[stemmer.stem(i) for i in words2]"
   ]
  },
  {
   "cell_type": "code",
   "execution_count": 35,
   "id": "9b9c0eb9-bc15-44fe-94b3-b29b4b8d33c6",
   "metadata": {
    "scrolled": true
   },
   "outputs": [
    {
     "data": {
      "text/plain": [
       "['india',\n",
       " 'men',\n",
       " \"'s\",\n",
       " 'nation',\n",
       " 'cricket',\n",
       " 'team',\n",
       " 'repres',\n",
       " 'india',\n",
       " 'men',\n",
       " \"'s\",\n",
       " 'intern',\n",
       " 'cricket',\n",
       " 'govern',\n",
       " 'board',\n",
       " 'control',\n",
       " 'cricket',\n",
       " 'india',\n",
       " 'bcci',\n",
       " 'full',\n",
       " 'member',\n",
       " 'intern',\n",
       " 'cricket',\n",
       " 'council',\n",
       " 'icc',\n",
       " 'test',\n",
       " 'one',\n",
       " 'day',\n",
       " 'intern',\n",
       " 'odi',\n",
       " 'twenty20',\n",
       " 'intern',\n",
       " 't20i',\n",
       " 'statu',\n",
       " 'india',\n",
       " 'current',\n",
       " 'icc',\n",
       " 't20',\n",
       " 'world',\n",
       " 'cup',\n",
       " 'champion']"
      ]
     },
     "execution_count": 35,
     "metadata": {},
     "output_type": "execute_result"
    }
   ],
   "source": [
    "[stemmer.stem(i) for i in filtered_words_2]"
   ]
  },
  {
   "cell_type": "markdown",
   "id": "40e229dc-c5c3-4919-b999-638b38f25651",
   "metadata": {},
   "source": [
    "## Lemmatizer"
   ]
  },
  {
   "cell_type": "code",
   "execution_count": 36,
   "id": "ddbea914-08bf-48e2-b016-b06a17a9d013",
   "metadata": {},
   "outputs": [],
   "source": [
    "from nltk.stem.wordnet import WordNetLemmatizer"
   ]
  },
  {
   "cell_type": "code",
   "execution_count": 37,
   "id": "7894ba18-0f3d-420a-9bf1-400a8eadf21b",
   "metadata": {},
   "outputs": [],
   "source": [
    "lemma = WordNetLemmatizer()"
   ]
  },
  {
   "cell_type": "code",
   "execution_count": 41,
   "id": "238ce51c-4195-4e74-aebf-b7b46cb94bbb",
   "metadata": {},
   "outputs": [
    {
     "data": {
      "text/plain": [
       "'fly'"
      ]
     },
     "execution_count": 41,
     "metadata": {},
     "output_type": "execute_result"
    }
   ],
   "source": [
    "lemma.lemmatize(\"flying\", \"v\")"
   ]
  },
  {
   "cell_type": "code",
   "execution_count": 42,
   "id": "34854903-d18c-4750-bc41-6d571b884b9d",
   "metadata": {},
   "outputs": [
    {
     "data": {
      "text/plain": [
       "'run'"
      ]
     },
     "execution_count": 42,
     "metadata": {},
     "output_type": "execute_result"
    }
   ],
   "source": [
    "lemma.lemmatize(\"running\", \"v\")"
   ]
  },
  {
   "cell_type": "code",
   "execution_count": 43,
   "id": "49adb1c7-ca5b-4a09-a226-ffaabae469eb",
   "metadata": {},
   "outputs": [
    {
     "data": {
      "text/plain": [
       "'work'"
      ]
     },
     "execution_count": 43,
     "metadata": {},
     "output_type": "execute_result"
    }
   ],
   "source": [
    "lemma.lemmatize(\"worked\", \"v\")"
   ]
  },
  {
   "cell_type": "markdown",
   "id": "cf2f47a1-9088-4e68-81a7-0fa278cea052",
   "metadata": {},
   "source": [
    "## POS Tagging"
   ]
  },
  {
   "cell_type": "code",
   "execution_count": 46,
   "id": "35abee8b-ac3a-48a7-9dfa-45d86cbfa76d",
   "metadata": {},
   "outputs": [],
   "source": [
    "from nltk import pos_tag"
   ]
  },
  {
   "cell_type": "code",
   "execution_count": 47,
   "id": "839af882-6815-4cfd-b22b-7bba745909ef",
   "metadata": {},
   "outputs": [],
   "source": [
    "sent1 = \"Albert Einstein was born in Mumbai, Maharashtra, India in 1983\""
   ]
  },
  {
   "cell_type": "code",
   "execution_count": 48,
   "id": "c7a201a9-a45f-4bc9-a616-b58bf94aeee6",
   "metadata": {
    "scrolled": true
   },
   "outputs": [
    {
     "data": {
      "text/plain": [
       "['Albert',\n",
       " 'Einstein',\n",
       " 'was',\n",
       " 'born',\n",
       " 'in',\n",
       " 'Mumbai',\n",
       " ',',\n",
       " 'Maharashtra',\n",
       " ',',\n",
       " 'India',\n",
       " 'in',\n",
       " '1983']"
      ]
     },
     "execution_count": 48,
     "metadata": {},
     "output_type": "execute_result"
    }
   ],
   "source": [
    "words3 = word_tokenize(sent1)\n",
    "words3"
   ]
  },
  {
   "cell_type": "code",
   "execution_count": 49,
   "id": "fde15832-03ba-4725-8290-1e527ab0acb6",
   "metadata": {},
   "outputs": [],
   "source": [
    "pos = pos_tag(words3)"
   ]
  },
  {
   "cell_type": "code",
   "execution_count": 50,
   "id": "6c7c3544-b13e-480d-b33c-167db478ff6f",
   "metadata": {
    "scrolled": true
   },
   "outputs": [
    {
     "data": {
      "text/plain": [
       "[('Albert', 'NNP'),\n",
       " ('Einstein', 'NNP'),\n",
       " ('was', 'VBD'),\n",
       " ('born', 'VBN'),\n",
       " ('in', 'IN'),\n",
       " ('Mumbai', 'NNP'),\n",
       " (',', ','),\n",
       " ('Maharashtra', 'NNP'),\n",
       " (',', ','),\n",
       " ('India', 'NNP'),\n",
       " ('in', 'IN'),\n",
       " ('1983', 'CD')]"
      ]
     },
     "execution_count": 50,
     "metadata": {},
     "output_type": "execute_result"
    }
   ],
   "source": [
    "pos"
   ]
  },
  {
   "cell_type": "code",
   "execution_count": 51,
   "id": "78e3f565-d629-4f2f-8250-ad4a4b8873b2",
   "metadata": {},
   "outputs": [],
   "source": [
    "tags = pos_tag(filtered_words_2)"
   ]
  },
  {
   "cell_type": "code",
   "execution_count": 52,
   "id": "3704f26d-2c8a-4944-af30-66ccb7313403",
   "metadata": {
    "scrolled": true
   },
   "outputs": [
    {
     "data": {
      "text/plain": [
       "[('India', 'NNP'),\n",
       " ('men', 'NNS'),\n",
       " (\"'s\", 'POS'),\n",
       " ('national', 'JJ'),\n",
       " ('cricket', 'NN'),\n",
       " ('team', 'NN'),\n",
       " ('represents', 'VBZ'),\n",
       " ('India', 'NNP'),\n",
       " ('men', 'NNS'),\n",
       " (\"'s\", 'POS'),\n",
       " ('international', 'JJ'),\n",
       " ('cricket', 'NN'),\n",
       " ('governed', 'VBD'),\n",
       " ('Board', 'NNP'),\n",
       " ('Control', 'NNP'),\n",
       " ('Cricket', 'NNP'),\n",
       " ('India', 'NNP'),\n",
       " ('BCCI', 'NNP'),\n",
       " ('Full', 'NNP'),\n",
       " ('Member', 'NNP'),\n",
       " ('International', 'NNP'),\n",
       " ('Cricket', 'NNP'),\n",
       " ('Council', 'NNP'),\n",
       " ('ICC', 'NNP'),\n",
       " ('Test', 'NNP'),\n",
       " ('One', 'NNP'),\n",
       " ('Day', 'NNP'),\n",
       " ('International', 'NNP'),\n",
       " ('ODI', 'NNP'),\n",
       " ('Twenty20', 'NNP'),\n",
       " ('International', 'NNP'),\n",
       " ('T20I', 'NNP'),\n",
       " ('status', 'NN'),\n",
       " ('India', 'NNP'),\n",
       " ('current', 'JJ'),\n",
       " ('ICC', 'NNP'),\n",
       " ('T20', 'NNP'),\n",
       " ('World', 'NNP'),\n",
       " ('Cup', 'NNP'),\n",
       " ('Champions', 'NNP')]"
      ]
     },
     "execution_count": 52,
     "metadata": {},
     "output_type": "execute_result"
    }
   ],
   "source": [
    "tags"
   ]
  },
  {
   "cell_type": "markdown",
   "id": "a1d17799-3943-4c81-a403-e5b061449003",
   "metadata": {},
   "source": [
    "## NER - Named Entity Recognition"
   ]
  },
  {
   "cell_type": "code",
   "execution_count": 54,
   "id": "73fa0882-9548-4cce-b802-d1e068fef612",
   "metadata": {},
   "outputs": [],
   "source": [
    "from nltk import ne_chunk"
   ]
  },
  {
   "cell_type": "code",
   "execution_count": 57,
   "id": "cb8f0615-2727-4daa-bb6b-298d8c59af95",
   "metadata": {},
   "outputs": [],
   "source": [
    "sent2 = \"New York city on Tuesday declared a public health emergency and ordered mandatory medications.\""
   ]
  },
  {
   "cell_type": "code",
   "execution_count": 58,
   "id": "ed237783-6212-47a7-98fc-2fdfba2f43b6",
   "metadata": {},
   "outputs": [
    {
     "name": "stdout",
     "output_type": "stream",
     "text": [
      "GPE New York\n"
     ]
    }
   ],
   "source": [
    "for chunks in ne_chunk(pos_tag(word_tokenize(sent2))):\n",
    "    if hasattr(chunks, \"label\"):\n",
    "        print(chunks.label(), \" \".join(i[0] for i in chunks))"
   ]
  },
  {
   "cell_type": "code",
   "execution_count": 61,
   "id": "22e202cf-034b-43ae-a891-acc7c006555b",
   "metadata": {},
   "outputs": [],
   "source": [
    "sent3 = \"Steve Jobs was founder of Apple company, California.\""
   ]
  },
  {
   "cell_type": "code",
   "execution_count": 62,
   "id": "445b44e0-bbfa-477b-9256-11a67d43ca1a",
   "metadata": {},
   "outputs": [
    {
     "name": "stdout",
     "output_type": "stream",
     "text": [
      "PERSON Steve\n",
      "PERSON Jobs\n",
      "GPE Apple\n",
      "GPE California\n"
     ]
    }
   ],
   "source": [
    "for chunks in ne_chunk(pos_tag(word_tokenize(sent3))):\n",
    "    if hasattr(chunks, \"label\"):\n",
    "        print(chunks.label(), \" \".join(i[0] for i in chunks))"
   ]
  },
  {
   "cell_type": "markdown",
   "id": "c42ddcbe-9941-4149-aac3-1deb3ece740d",
   "metadata": {},
   "source": [
    "## Synonyms"
   ]
  },
  {
   "cell_type": "code",
   "execution_count": 63,
   "id": "5a7daea7-1d4d-4af9-b280-98b2495822ef",
   "metadata": {},
   "outputs": [],
   "source": [
    "from nltk.corpus import wordnet"
   ]
  },
  {
   "cell_type": "code",
   "execution_count": 64,
   "id": "70c9df28-7f88-41d8-9420-6fe1e0fc6eb6",
   "metadata": {},
   "outputs": [],
   "source": [
    "syns = wordnet.synsets(\"bank\")"
   ]
  },
  {
   "cell_type": "code",
   "execution_count": 65,
   "id": "80f8f8d0-e38d-4fc9-a22b-72608ecc91b7",
   "metadata": {
    "scrolled": true
   },
   "outputs": [
    {
     "data": {
      "text/plain": [
       "[Synset('bank.n.01'),\n",
       " Synset('depository_financial_institution.n.01'),\n",
       " Synset('bank.n.03'),\n",
       " Synset('bank.n.04'),\n",
       " Synset('bank.n.05'),\n",
       " Synset('bank.n.06'),\n",
       " Synset('bank.n.07'),\n",
       " Synset('savings_bank.n.02'),\n",
       " Synset('bank.n.09'),\n",
       " Synset('bank.n.10'),\n",
       " Synset('bank.v.01'),\n",
       " Synset('bank.v.02'),\n",
       " Synset('bank.v.03'),\n",
       " Synset('bank.v.04'),\n",
       " Synset('bank.v.05'),\n",
       " Synset('deposit.v.02'),\n",
       " Synset('bank.v.07'),\n",
       " Synset('trust.v.01')]"
      ]
     },
     "execution_count": 65,
     "metadata": {},
     "output_type": "execute_result"
    }
   ],
   "source": [
    "syns"
   ]
  },
  {
   "cell_type": "code",
   "execution_count": 68,
   "id": "30bb2aca-11e5-4de6-868f-b9a4523205aa",
   "metadata": {},
   "outputs": [
    {
     "name": "stdout",
     "output_type": "stream",
     "text": [
      "bank.n.01\n",
      "bank\n",
      "sloping land (especially the slope beside a body of water)\n",
      "['they pulled the canoe up on the bank', 'he sat on the bank of the river and watched the currents']\n",
      "_________________________________________________________________________________\n",
      "depository_financial_institution.n.01\n",
      "depository_financial_institution\n",
      "a financial institution that accepts deposits and channels the money into lending activities\n",
      "['he cashed a check at the bank', 'that bank holds the mortgage on my home']\n",
      "_________________________________________________________________________________\n",
      "bank.n.03\n",
      "bank\n",
      "a long ridge or pile\n",
      "['a huge bank of earth']\n",
      "_________________________________________________________________________________\n",
      "bank.n.04\n",
      "bank\n",
      "an arrangement of similar objects in a row or in tiers\n",
      "['he operated a bank of switches']\n",
      "_________________________________________________________________________________\n",
      "bank.n.05\n",
      "bank\n",
      "a supply or stock held in reserve for future use (especially in emergencies)\n",
      "[]\n",
      "_________________________________________________________________________________\n",
      "bank.n.06\n",
      "bank\n",
      "the funds held by a gambling house or the dealer in some gambling games\n",
      "['he tried to break the bank at Monte Carlo']\n",
      "_________________________________________________________________________________\n",
      "bank.n.07\n",
      "bank\n",
      "a slope in the turn of a road or track; the outside is higher than the inside in order to reduce the effects of centrifugal force\n",
      "[]\n",
      "_________________________________________________________________________________\n",
      "savings_bank.n.02\n",
      "savings_bank\n",
      "a container (usually with a slot in the top) for keeping money at home\n",
      "['the coin bank was empty']\n",
      "_________________________________________________________________________________\n",
      "bank.n.09\n",
      "bank\n",
      "a building in which the business of banking transacted\n",
      "['the bank is on the corner of Nassau and Witherspoon']\n",
      "_________________________________________________________________________________\n",
      "bank.n.10\n",
      "bank\n",
      "a flight maneuver; aircraft tips laterally about its longitudinal axis (especially in turning)\n",
      "['the plane went into a steep bank']\n",
      "_________________________________________________________________________________\n",
      "bank.v.01\n",
      "bank\n",
      "tip laterally\n",
      "['the pilot had to bank the aircraft']\n",
      "_________________________________________________________________________________\n",
      "bank.v.02\n",
      "bank\n",
      "enclose with a bank\n",
      "['bank roads']\n",
      "_________________________________________________________________________________\n",
      "bank.v.03\n",
      "bank\n",
      "do business with a bank or keep an account at a bank\n",
      "['Where do you bank in this town?']\n",
      "_________________________________________________________________________________\n",
      "bank.v.04\n",
      "bank\n",
      "act as the banker in a game or in gambling\n",
      "[]\n",
      "_________________________________________________________________________________\n",
      "bank.v.05\n",
      "bank\n",
      "be in the banking business\n",
      "[]\n",
      "_________________________________________________________________________________\n",
      "deposit.v.02\n",
      "deposit\n",
      "put into a bank account\n",
      "['She deposits her paycheck every month']\n",
      "_________________________________________________________________________________\n",
      "bank.v.07\n",
      "bank\n",
      "cover with ashes so to control the rate of burning\n",
      "['bank a fire']\n",
      "_________________________________________________________________________________\n",
      "trust.v.01\n",
      "trust\n",
      "have confidence or faith in\n",
      "['We can trust in God', 'Rely on your friends', 'bank on your good education', \"I swear by my grandmother's recipes\"]\n",
      "_________________________________________________________________________________\n"
     ]
    }
   ],
   "source": [
    "for i in range(len(syns)):\n",
    "    print(syns[i].name())\n",
    "    print(syns[i].lemmas()[0].name())\n",
    "    print(syns[i].definition())\n",
    "    print(syns[i].examples())\n",
    "    print(\"_________________________________________________________________________________\")"
   ]
  },
  {
   "cell_type": "code",
   "execution_count": 71,
   "id": "545e1700-e1a4-4919-aec7-58c8c2720d0c",
   "metadata": {},
   "outputs": [],
   "source": [
    "syns2 = wordnet.synsets(\"program\")"
   ]
  },
  {
   "cell_type": "code",
   "execution_count": 72,
   "id": "aab2980b-0a79-479c-a315-b691e45680b2",
   "metadata": {
    "scrolled": true
   },
   "outputs": [
    {
     "name": "stdout",
     "output_type": "stream",
     "text": [
      "plan.n.01\n",
      "plan\n",
      "a series of steps to be carried out or goals to be accomplished\n",
      "['they drew up a six-step plan', 'they discussed plans for a new bond issue']\n",
      "_________________________________________________________________________________\n",
      "program.n.02\n",
      "program\n",
      "a system of projects or services intended to meet a public need\n",
      "['he proposed an elaborate program of public works', 'working mothers rely on the day care program']\n",
      "_________________________________________________________________________________\n",
      "broadcast.n.02\n",
      "broadcast\n",
      "a radio or television show\n",
      "['did you see his program last night?']\n",
      "_________________________________________________________________________________\n",
      "platform.n.02\n",
      "platform\n",
      "a document stating the aims and principles of a political party\n",
      "['their candidate simply ignored the party platform', 'they won the election even though they offered no positive program']\n",
      "_________________________________________________________________________________\n",
      "program.n.05\n",
      "program\n",
      "an announcement of the events that will occur as part of a theatrical or sporting event\n",
      "[\"you can't tell the players without a program\"]\n",
      "_________________________________________________________________________________\n",
      "course_of_study.n.01\n",
      "course_of_study\n",
      "an integrated course of academic studies\n",
      "['he was admitted to a new program at the university']\n",
      "_________________________________________________________________________________\n",
      "program.n.07\n",
      "program\n",
      "(computer science) a sequence of instructions that a computer can interpret and execute\n",
      "['the program required several hundred lines of code']\n",
      "_________________________________________________________________________________\n",
      "program.n.08\n",
      "program\n",
      "a performance (or series of performances) at a public presentation\n",
      "['the program lasted more than two hours']\n",
      "_________________________________________________________________________________\n",
      "program.v.01\n",
      "program\n",
      "arrange a program of or for\n",
      "['program the 80th birthday party']\n",
      "_________________________________________________________________________________\n",
      "program.v.02\n",
      "program\n",
      "write a computer program\n",
      "[]\n",
      "_________________________________________________________________________________\n"
     ]
    }
   ],
   "source": [
    "for i in range(len(syns2)):\n",
    "    print(syns2[i].name())\n",
    "    print(syns2[i].lemmas()[0].name())\n",
    "    print(syns2[i].definition())\n",
    "    print(syns2[i].examples())\n",
    "    print(\"_________________________________________________________________________________\")"
   ]
  },
  {
   "cell_type": "code",
   "execution_count": null,
   "id": "7c72c4a0-c8ed-46e1-9df9-1c493011c2c2",
   "metadata": {},
   "outputs": [],
   "source": []
  }
 ],
 "metadata": {
  "kernelspec": {
   "display_name": "Python 3 (ipykernel)",
   "language": "python",
   "name": "python3"
  },
  "language_info": {
   "codemirror_mode": {
    "name": "ipython",
    "version": 3
   },
   "file_extension": ".py",
   "mimetype": "text/x-python",
   "name": "python",
   "nbconvert_exporter": "python",
   "pygments_lexer": "ipython3",
   "version": "3.11.7"
  },
  "widgets": {
   "application/vnd.jupyter.widget-state+json": {
    "state": {},
    "version_major": 2,
    "version_minor": 0
   }
  }
 },
 "nbformat": 4,
 "nbformat_minor": 5
}
